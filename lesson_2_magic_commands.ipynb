{
 "cells": [
  {
   "cell_type": "markdown",
   "metadata": {},
   "source": [
    "# Basic magic commands"
   ]
  },
  {
   "cell_type": "markdown",
   "metadata": {},
   "source": [
    "###To find out the absolute pathname of your directory type `%pwd`\n",
    "\n",
    "`%pwd` ցույց է տալիս ներկա աշխատանքային դիրեկտորիան"
   ]
  },
  {
   "cell_type": "code",
   "execution_count": 1,
   "metadata": {
    "collapsed": false
   },
   "outputs": [],
   "source": [
    "%pwd"
   ]
  },
  {
   "cell_type": "markdown",
   "metadata": {},
   "source": [
    "###To find out what is in your home directory, type `%ls` (list)\n",
    "    \n",
    "`%ls` command lists the contents of your current working directory\n",
    "\n",
    "`%ls` ցույց է տալիս ֆայլերի ցանկը տվյալ `%pwd`-ում\n"
   ]
  },
  {
   "cell_type": "code",
   "execution_count": 2,
   "metadata": {
    "collapsed": false,
    "slideshow": {
     "slide_type": "-"
    }
   },
   "outputs": [],
   "source": [
    "%ls"
   ]
  },
  {
   "cell_type": "markdown",
   "metadata": {},
   "source": [
    "\n",
    "###To list the files with specific `ipynb` ending type\n",
    "\n",
    "    `%ls *.ipynb`"
   ]
  },
  {
   "cell_type": "code",
   "execution_count": 3,
   "metadata": {
    "collapsed": false
   },
   "outputs": [],
   "source": [
    "%ls *.ipynb"
   ]
  },
  {
   "cell_type": "markdown",
   "metadata": {},
   "source": [
    "###`%cd` (change directory) command\n",
    "\n",
    "cd - change directory, փոխել դիրեկտորիան\n",
    "\n",
    "`%cd ..` - go up one directory, բարձրանալ մեկ դիրեկտորիա\n",
    "\n",
    "to go to a specific folder\n",
    "\n",
    "`%cd C:\\Users\\training\\Downloads\\WinPython-32bit-3.3.5.0\\`\n"
   ]
  },
  {
   "cell_type": "code",
   "execution_count": 19,
   "metadata": {
    "collapsed": false
   },
   "outputs": [],
   "source": [
    "%cd C:\\Users\\training\\Downloads\\WinPython-32bit-3.3.5.0\\\n",
    "\n",
    "%ls"
   ]
  },
  {
   "cell_type": "markdown",
   "metadata": {},
   "source": [
    "###To make a directory type `%mkdir folderName`\n",
    "\n",
    "`%mkdir data` - make directory with name `data`, ստեղծել դիրեկտորիա, որի անունը `data` է\n"
   ]
  },
  {
   "cell_type": "code",
   "execution_count": 23,
   "metadata": {
    "collapsed": false
   },
   "outputs": [],
   "source": [
    "%mkdir data\n",
    "\n",
    "%ls"
   ]
  },
  {
   "cell_type": "code",
   "execution_count": 29,
   "metadata": {
    "collapsed": false
   },
   "outputs": [],
   "source": [
    "%pwd\n",
    "%cd C:\\Users\\training\\Downloads\\WinPython-32bit-3.3.5.0\\data"
   ]
  },
  {
   "cell_type": "markdown",
   "metadata": {},
   "source": [
    "###To make a file inside `pwd` type `%%writefile fileName` and below your code\n",
    "\n",
    "Նոր ֆայլ ստեղծելու համար օգտագործեք `%%writefile` հրամանը\n",
    "\n",
    "`%%writefile fileName`, որտեղ երկրորդ պառամետրը դա ստեղծվող ֆայլի անունն է\n",
    "\n",
    "`%%writefile fileName` հրամանի հաջորդ տողում գրեք դզեր կոդը, որը կհայտնվի դզեր `fileName`-ի մեջ"
   ]
  },
  {
   "cell_type": "code",
   "execution_count": 11,
   "metadata": {
    "collapsed": false
   },
   "outputs": [],
   "source": [
    "%%writefile foo.py\n",
    "print('Hello world')\n",
    "name = input('Enter your name: ')\n",
    "print(\"-------------------\")\n",
    "print('Your name is', name)"
   ]
  },
  {
   "cell_type": "markdown",
   "metadata": {},
   "source": [
    "Ստուգեք արդյոք ֆայլը ստեղծվել է օգտագործելով `%ls foo.py`"
   ]
  },
  {
   "cell_type": "code",
   "execution_count": null,
   "metadata": {
    "collapsed": false
   },
   "outputs": [],
   "source": [
    "%ls foo.py"
   ]
  },
  {
   "cell_type": "markdown",
   "metadata": {},
   "source": [
    "Աշխատացրեք ֆայլը օգտագործելով `%run fileName` հրամանը"
   ]
  },
  {
   "cell_type": "code",
   "execution_count": 12,
   "metadata": {
    "collapsed": false
   },
   "outputs": [],
   "source": [
    "%run foo"
   ]
  },
  {
   "cell_type": "markdown",
   "metadata": {},
   "source": [
    "Մեկ այլ տարբերակ աշխատացնելու համար կոդը `!python fileName`"
   ]
  },
  {
   "cell_type": "code",
   "execution_count": null,
   "metadata": {
    "collapsed": false
   },
   "outputs": [],
   "source": [
    "!python foo"
   ]
  },
  {
   "cell_type": "markdown",
   "metadata": {},
   "source": [
    "###List of basic magic commands\n",
    "\n",
    "|Command      | Description|\n",
    "|----         |------------------|\n",
    "|%ls          |list files and directories|\n",
    "|%ls -a       | list all files and directories|\n",
    "|%mkdir directoryName      |make a directory|\n",
    "|%cd directory| change to named directory|\n",
    "|%cd ..       |change to parent directory|\n",
    "|%pwd         |display the path of the current directory|\n",
    "|%run fileName|execute the code named fileName|"
   ]
  }
 ],
 "metadata": {
  "kernelspec": {
   "display_name": "Python 3",
   "language": "python",
   "name": "python3"
  },
  "language_info": {
   "codemirror_mode": {
    "name": "ipython",
    "version": 3
   },
   "file_extension": ".py",
   "mimetype": "text/x-python",
   "name": "python",
   "nbconvert_exporter": "python",
   "pygments_lexer": "ipython3",
   "version": "3.4.3"
  }
 },
 "nbformat": 4,
 "nbformat_minor": 0
}
