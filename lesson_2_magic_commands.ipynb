{
 "metadata": {
  "name": "",
  "signature": "sha256:24c7a2d5a5f09443cb472bc91e83a064ef7a942aac48a0d6498ae30334a55ba5"
 },
 "nbformat": 3,
 "nbformat_minor": 0,
 "worksheets": [
  {
   "cells": [
    {
     "cell_type": "markdown",
     "metadata": {},
     "source": [
      "# Basic magic commands"
     ]
    },
    {
     "cell_type": "markdown",
     "metadata": {},
     "source": [
      "###To find out the absolute pathname of your directory type `%pwd`\n",
      "\n",
      "`%pwd` \u0581\u0578\u0582\u0575\u0581 \u0567 \u057f\u0561\u056c\u056b\u057d \u0576\u0565\u0580\u056f\u0561 \u0561\u0577\u056d\u0561\u057f\u0561\u0576\u0584\u0561\u0575\u056b\u0576 \u0564\u056b\u0580\u0565\u056f\u057f\u0578\u0580\u056b\u0561\u0576"
     ]
    },
    {
     "cell_type": "code",
     "collapsed": false,
     "input": [
      "%pwd"
     ],
     "language": "python",
     "metadata": {},
     "outputs": [],
     "prompt_number": 1
    },
    {
     "cell_type": "markdown",
     "metadata": {},
     "source": [
      "###To find out what is in your home directory, type `%ls` (list)\n",
      "    \n",
      "`%ls` command lists the contents of your current working directory\n",
      "\n",
      "`%ls` \u0581\u0578\u0582\u0575\u0581 \u0567 \u057f\u0561\u056c\u056b\u057d \u0586\u0561\u0575\u056c\u0565\u0580\u056b \u0581\u0561\u0576\u056f\u0568 \u057f\u057e\u0575\u0561\u056c `%pwd`-\u0578\u0582\u0574\n"
     ]
    },
    {
     "cell_type": "code",
     "collapsed": false,
     "input": [
      "%ls"
     ],
     "language": "python",
     "metadata": {
      "slideshow": {
       "slide_type": "-"
      }
     },
     "outputs": [],
     "prompt_number": 2
    },
    {
     "cell_type": "markdown",
     "metadata": {},
     "source": [
      "\n",
      "###To list the files with specific `ipynb` ending type\n",
      "\n",
      "    `%ls *.ipynb`"
     ]
    },
    {
     "cell_type": "code",
     "collapsed": false,
     "input": [
      "%ls *.ipynb"
     ],
     "language": "python",
     "metadata": {},
     "outputs": [],
     "prompt_number": 3
    },
    {
     "cell_type": "markdown",
     "metadata": {},
     "source": [
      "###`%cd` (change directory) command\n",
      "\n",
      "cd - change directory, \u0583\u0578\u056d\u0565\u056c \u0564\u056b\u0580\u0565\u056f\u057f\u0578\u0580\u056b\u0561\u0576\n",
      "\n",
      "`%cd ..` - go up one directory, \u0562\u0561\u0580\u0571\u0580\u0561\u0576\u0561\u056c \u0574\u0565\u056f \u0564\u056b\u0580\u0565\u056f\u057f\u0578\u0580\u056b\u0561\n",
      "\n",
      "to go to a specific folder\n",
      "\n",
      "`%cd C:\\Users\\training\\Downloads\\WinPython-32bit-3.3.5.0\\`\n"
     ]
    },
    {
     "cell_type": "code",
     "collapsed": false,
     "input": [
      "%cd C:\\Users\\training\\Downloads\\WinPython-32bit-3.3.5.0\\\n",
      "\n",
      "%ls"
     ],
     "language": "python",
     "metadata": {},
     "outputs": [],
     "prompt_number": 19
    },
    {
     "cell_type": "markdown",
     "metadata": {},
     "source": [
      "###To make a directory type `%mkdir folderName`\n",
      "\n",
      "`%mkdir data` - make directory with name `data`, \u057d\u057f\u0565\u0572\u056e\u0565\u056c \u0564\u056b\u0580\u0565\u056f\u057f\u0578\u0580\u056b\u0561, \u0578\u0580\u056b \u0561\u0576\u0578\u0582\u0576\u0568 `data` \u0567\n"
     ]
    },
    {
     "cell_type": "code",
     "collapsed": false,
     "input": [
      "%mkdir data\n",
      "\n",
      "%ls"
     ],
     "language": "python",
     "metadata": {},
     "outputs": [],
     "prompt_number": 23
    },
    {
     "cell_type": "code",
     "collapsed": false,
     "input": [
      "%pwd\n",
      "%cd C:\\Users\\training\\Downloads\\WinPython-32bit-3.3.5.0\\data"
     ],
     "language": "python",
     "metadata": {},
     "outputs": [],
     "prompt_number": 29
    },
    {
     "cell_type": "markdown",
     "metadata": {},
     "source": [
      "###To make a file inside `pwd` type `%%writefile fileName` and below your code\n",
      "\n",
      "\u0546\u0578\u0580 \u0586\u0561\u0575\u056c \u057d\u057f\u0565\u0572\u056e\u0565\u056c\u0578\u0582 \u0570\u0561\u0574\u0561\u0580 \u0585\u0563\u057f\u0561\u0563\u0578\u0580\u056e\u0565\u0584 `%%writefile` \u0570\u0580\u0561\u0574\u0561\u0576\u0568\n",
      "\n",
      "`%%writefile fileName`, \u0578\u0580\u057f\u0565\u0572 \u0565\u0580\u056f\u0580\u0578\u0580\u0564 \u057a\u0561\u057c\u0561\u0574\u0565\u057f\u0580\u0568 \u0564\u0561 \u057d\u057f\u0565\u0572\u056e\u057e\u0578\u0572 \u0586\u0561\u0575\u056c\u056b \u0561\u0576\u0578\u0582\u0576\u0576 \u0567\n",
      "\n",
      "`%%writefile fileName` \u0570\u0580\u0561\u0574\u0561\u0576\u056b \u0570\u0561\u057b\u0578\u0580\u0564 \u057f\u0578\u0572\u0578\u0582\u0574 \u0563\u0580\u0565\u0584 \u0564\u0566\u0565\u0580 \u056f\u0578\u0564\u0568, \u0578\u0580\u0568 \u056f\u0570\u0561\u0575\u057f\u0576\u057e\u056b \u0564\u0566\u0565\u0580 `fileName`-\u056b \u0574\u0565\u057b"
     ]
    },
    {
     "cell_type": "code",
     "collapsed": false,
     "input": [
      "%%writefile foo.py\n",
      "print('Hello world')\n",
      "name = input('Enter your name: ')\n",
      "print(\"-------------------\")\n",
      "print('Your name is', name)"
     ],
     "language": "python",
     "metadata": {},
     "outputs": [],
     "prompt_number": 11
    },
    {
     "cell_type": "markdown",
     "metadata": {},
     "source": [
      "\u054d\u057f\u0578\u0582\u0563\u0565\u0584 \u0561\u0580\u0564\u0575\u0578\u0584 \u0586\u0561\u0575\u056c\u0568 \u057d\u057f\u0565\u0572\u056e\u057e\u0565\u056c \u0567 \u0585\u0563\u057f\u0561\u0563\u0578\u0580\u056e\u0565\u056c\u0578\u057e `%ls foo.py`"
     ]
    },
    {
     "cell_type": "code",
     "collapsed": false,
     "input": [
      "%ls foo.py"
     ],
     "language": "python",
     "metadata": {},
     "outputs": []
    },
    {
     "cell_type": "markdown",
     "metadata": {},
     "source": [
      "\u0531\u0577\u056d\u0561\u057f\u0561\u0581\u0580\u0565\u0584 \u0586\u0561\u0575\u056c\u0568 \u0585\u0563\u057f\u0561\u0563\u0578\u0580\u056e\u0565\u056c\u0578\u057e `%run fileName` \u0570\u0580\u0561\u0574\u0561\u0576\u0568"
     ]
    },
    {
     "cell_type": "code",
     "collapsed": false,
     "input": [
      "%run foo"
     ],
     "language": "python",
     "metadata": {},
     "outputs": [],
     "prompt_number": 12
    },
    {
     "cell_type": "markdown",
     "metadata": {},
     "source": [
      "\u0544\u0565\u056f \u0561\u0575\u056c \u057f\u0561\u0580\u0562\u0565\u0580\u0561\u056f \u0561\u0577\u056d\u0561\u057f\u0561\u0581\u0576\u0565\u056c\u0578\u0582 \u0570\u0561\u0574\u0561\u0580 \u056f\u0578\u0564\u0568 `!python fileName`"
     ]
    },
    {
     "cell_type": "code",
     "collapsed": false,
     "input": [
      "!python foo"
     ],
     "language": "python",
     "metadata": {},
     "outputs": []
    },
    {
     "cell_type": "markdown",
     "metadata": {},
     "source": [
      "###List of basic magic commands\n",
      "\n",
      "|Command      | Description|\n",
      "|----         |------------------|\n",
      "|%ls          |list files and directories|\n",
      "|%ls -a       | list all files and directories|\n",
      "|%mkdir directoryName      |make a directory|\n",
      "|%cd directory| change to named directory|\n",
      "|%cd ..       |change to parent directory|\n",
      "|%pwd         |display the path of the current directory|\n",
      "|%run fileName|execute the code named fileName|"
     ]
    }
   ],
   "metadata": {}
  }
 ]
}