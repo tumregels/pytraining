{
 "cells": [
  {
   "cell_type": "markdown",
   "metadata": {},
   "source": [
    "### Delete variables to clean memory in functions?"
   ]
  },
  {
   "cell_type": "markdown",
   "metadata": {},
   "source": [
    "\n",
    "\n",
    "> C Python (the reference implementation) uses reference counting and garbage collection. When count of references to object decrease to 0, it is automatically reclaimed. The garbage collection normally reclaims only those objects that refer to each other (or other objects from them) and thus cannot be reclaimed by reference counting.\n",
    "\n",
    "> Thus, in most cases, local variables are reclaimed at the end of the function, because at the exit from the function, the objects cease being referenced from anywhere. So \"`del`\" statements are completely unnecessary, because Python does that anyway. [1]\n",
    "\n",
    "[1]: http://stackoverflow.com/a/1478134/2248627\n"
   ]
  },
  {
   "cell_type": "markdown",
   "metadata": {},
   "source": [
    "> Python objects are never explicitly deleted. The only way to truly reclaim memory from unreferenced Python objects is via the garbage collector. The `del` keyword simply unbinds a name from an object, but the object still needs to be garbage collected. [2]\n",
    "\n",
    "[2]: http://stackoverflow.com/a/1478088/2248627"
   ]
  },
  {
   "cell_type": "markdown",
   "metadata": {},
   "source": [
    "> Python uses garbage collection. This means you don't have to care about memory as it's freed automatically when it's not used anymore. [3]\n",
    "\n",
    "[3]: http://stackoverflow.com/a/1478002/2248627"
   ]
  },
  {
   "cell_type": "markdown",
   "metadata": {},
   "source": [
    "### The `del` keyword\n",
    "\n",
    "\n",
    "```python \n",
    ">>> a=1\n",
    ">>> a\n",
    "1\n",
    ">>> del a\n",
    ">>> a\n",
    "Traceback (most recent call last):\n",
    "  File \"<stdin>\", line 1, in <module>\n",
    "NameError: name 'a' is not defined\n",
    "```"
   ]
  },
  {
   "cell_type": "markdown",
   "metadata": {},
   "source": [
    "`a = None` \n",
    "\n",
    "\"clears the value\", setting the value of the variable to \"null\" like value of \"None\", however the pointer to the variable remains. \n",
    "\n",
    "`del a` \n",
    "\n",
    "removes the definition for the variable totally. \n",
    "\n",
    "\n",
    "In case you want to use the variable later, e.g. set a new value for it, i.e. retain the variable, `None` would be better."
   ]
  },
  {
   "cell_type": "markdown",
   "metadata": {},
   "source": [
    "### References\n",
    "\n",
    "http://stackoverflow.com/questions/8237647/clear-variable-in-python\n",
    "    \n",
    "http://stackoverflow.com/questions/8237647/clear-variable-in-python\n",
    "    \n",
    "http://stackoverflow.com/questions/1477980/python-chat-delete-variables-to-clean-memory-in-functions"
   ]
  },
  {
   "cell_type": "code",
   "execution_count": null,
   "metadata": {
    "collapsed": true
   },
   "outputs": [],
   "source": []
  }
 ],
 "metadata": {
  "kernelspec": {
   "display_name": "Python 3",
   "language": "python",
   "name": "python3"
  },
  "language_info": {
   "codemirror_mode": {
    "name": "ipython",
    "version": 3
   },
   "file_extension": ".py",
   "mimetype": "text/x-python",
   "name": "python",
   "nbconvert_exporter": "python",
   "pygments_lexer": "ipython3",
   "version": "3.4.3"
  }
 },
 "nbformat": 4,
 "nbformat_minor": 0
}
