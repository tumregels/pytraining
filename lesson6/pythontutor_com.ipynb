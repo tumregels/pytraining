{
 "cells": [
  {
   "cell_type": "markdown",
   "metadata": {},
   "source": [
    "## dict as a container"
   ]
  },
  {
   "cell_type": "code",
   "execution_count": 5,
   "metadata": {
    "collapsed": false,
    "scrolled": false
   },
   "outputs": [
    {
     "data": {
      "text/html": [
       "<iframe width=\"1000\" height=\"700\" frameborder=\"0\" src=\"http://pythontutor.com/iframe-embed.html#code=%23+function+definition%0Adef+frequency(itemList)%3A%0A++++'''returns+frequency+of+items+in+itemList'''%0A%0A++++counters+%3D+%7B%7D%0A++++for+item+in+itemList%3A%0A++++++++if+item+in+counters%3A+%23+increment+item+counter%0A++++++++++++counters%5Bitem%5D+%2B%3D+1%0A++++++++else%3A+%23+create+item+counter%0A++++++++++++counters%5Bitem%5D+%3D+1%0A++++return+counters%0A++++%0A%0Agrades+%3D+%5B95,+96,+100,+85,+95,+90,+95,+100,+100%5D%0Afreq+%3D+frequency(grades)+%23+function+call%0Aprint(freq)&origin=opt-frontend.js&cumulative=false&heapPrimitives=false&drawParentPointers=false&textReferences=false&showOnlyOutputs=false&py=3&rawInputLstJSON=%5B%5D&curInstr=36&codeDivWidth=350&codeDivHeight=400\"> </iframe>"
      ],
      "text/plain": [
       "<IPython.core.display.HTML object>"
      ]
     },
     "metadata": {},
     "output_type": "display_data"
    }
   ],
   "source": [
    "%%HTML\n",
    "<iframe width=\"1000\" height=\"700\" frameborder=\"0\" src=\"http://pythontutor.com/iframe-embed.html#code=%23+function+definition%0Adef+frequency(itemList)%3A%0A++++'''returns+frequency+of+items+in+itemList'''%0A%0A++++counters+%3D+%7B%7D%0A++++for+item+in+itemList%3A%0A++++++++if+item+in+counters%3A+%23+increment+item+counter%0A++++++++++++counters%5Bitem%5D+%2B%3D+1%0A++++++++else%3A+%23+create+item+counter%0A++++++++++++counters%5Bitem%5D+%3D+1%0A++++return+counters%0A++++%0A%0Agrades+%3D+%5B95,+96,+100,+85,+95,+90,+95,+100,+100%5D%0Afreq+%3D+frequency(grades)+%23+function+call%0Aprint(freq)&origin=opt-frontend.js&cumulative=false&heapPrimitives=false&drawParentPointers=false&textReferences=false&showOnlyOutputs=false&py=3&rawInputLstJSON=%5B%5D&curInstr=36&codeDivWidth=350&codeDivHeight=400\"> </iframe>"
   ]
  },
  {
   "cell_type": "markdown",
   "metadata": {},
   "source": [
    "## Exercise 2"
   ]
  },
  {
   "cell_type": "code",
   "execution_count": 8,
   "metadata": {
    "collapsed": false
   },
   "outputs": [
    {
     "data": {
      "text/html": [
       "<iframe width=\"800\" height=\"700\" frameborder=\"0\" src=\"http://pythontutor.com/iframe-embed.html#code=def+wordCount(text)%3A%0A++++'prints+frequency+of+each+word+in+text'+%0A++++wordList+%3D+text.split()++%23+split+text%0A++++counters+%3D%7B%7D+++++++++++++%23+dictionary%0A++++for+word+in+wordList%3A+++%0A++++++++if+word+in+counters%3A+%23+exists%0A++++++++++++counters%5Bword%5D+%2B%3D+1%0A++++++++else%3A++++++++++++++++%23+doesn't+exist%0A++++++++++++counters%5Bword%5D+%3D+1%0A%0A++++for+word+in+counters%3A++++%23+print+word+counts%0A++++++++print('%7B%3A8%7D+appears+%7B%7D+times'%0A++++++++++++++++++.format(word,+counters%5Bword%5D))%0A++++++++++++++++++%0A%0As+%3D+'to+be+or+not+to+be'%0AwordCount(s)%0A&origin=opt-frontend.js&cumulative=false&heapPrimitives=false&drawParentPointers=false&textReferences=false&showOnlyOutputs=false&py=3&rawInputLstJSON=%5B%5D&curInstr=39&codeDivWidth=350&codeDivHeight=400\"> </iframe>"
      ],
      "text/plain": [
       "<IPython.core.display.HTML object>"
      ]
     },
     "metadata": {},
     "output_type": "display_data"
    }
   ],
   "source": [
    "%%HTML\n",
    "<iframe width=\"800\" height=\"700\" frameborder=\"0\" src=\"http://pythontutor.com/iframe-embed.html#code=def+wordCount(text)%3A%0A++++'prints+frequency+of+each+word+in+text'+%0A++++wordList+%3D+text.split()++%23+split+text%0A++++counters+%3D%7B%7D+++++++++++++%23+dictionary%0A++++for+word+in+wordList%3A+++%0A++++++++if+word+in+counters%3A+%23+exists%0A++++++++++++counters%5Bword%5D+%2B%3D+1%0A++++++++else%3A++++++++++++++++%23+doesn't+exist%0A++++++++++++counters%5Bword%5D+%3D+1%0A%0A++++for+word+in+counters%3A++++%23+print+word+counts%0A++++++++print('%7B%3A8%7D+appears+%7B%7D+times'%0A++++++++++++++++++.format(word,+counters%5Bword%5D))%0A++++++++++++++++++%0A%0As+%3D+'to+be+or+not+to+be'%0AwordCount(s)%0A&origin=opt-frontend.js&cumulative=false&heapPrimitives=false&drawParentPointers=false&textReferences=false&showOnlyOutputs=false&py=3&rawInputLstJSON=%5B%5D&curInstr=39&codeDivWidth=350&codeDivHeight=400\"> </iframe>"
   ]
  },
  {
   "cell_type": "markdown",
   "metadata": {},
   "source": [
    "## Exercise 3"
   ]
  },
  {
   "cell_type": "code",
   "execution_count": 10,
   "metadata": {
    "collapsed": false
   },
   "outputs": [
    {
     "data": {
      "text/html": [
       "<iframe width=\"1000\" height=\"700\" frameborder=\"0\" src=\"http://pythontutor.com/iframe-embed.html#code=%23function+definition%0Adef+lookup(phonebook)%3A%09%0A++++while+True%3A%0A++++++++first+%3D+input('first+name%3A+')%0A++++++++last+%3D+input('last+name%3A+')%0A%0A++++++++person+%3D+(first,+last)%0A%0A++++++++if+person+in+phonebook%3A%0A++++++++++++print(phonebook%5Bperson%5D)%0A++++++++else%3A%0A++++++++++++print('unknown.')%0A%0A%0Aphone_dict+%3D+%7B%0A%09('Arm',+'Spartyan')%3A'56-78-90',%0A%09('Vlad',+'Tundyan')%3A'34-56-78',%0A%09('Kiazh',+'Damyan')%3A'48-76-54'%7D%0A%0A%23+function+call%0Alookup(phone_dict)%0A%0A&origin=opt-frontend.js&cumulative=false&heapPrimitives=false&drawParentPointers=false&textReferences=false&showOnlyOutputs=false&py=3&rawInputLstJSON=%5B%5D&curInstr=0&codeDivWidth=350&codeDivHeight=400\"> </iframe>"
      ],
      "text/plain": [
       "<IPython.core.display.HTML object>"
      ]
     },
     "metadata": {},
     "output_type": "display_data"
    }
   ],
   "source": [
    "%%HTML\n",
    "<iframe width=\"1000\" height=\"700\" frameborder=\"0\" src=\"http://pythontutor.com/iframe-embed.html#code=%23function+definition%0Adef+lookup(phonebook)%3A%09%0A++++while+True%3A%0A++++++++first+%3D+input('first+name%3A+')%0A++++++++last+%3D+input('last+name%3A+')%0A%0A++++++++person+%3D+(first,+last)%0A%0A++++++++if+person+in+phonebook%3A%0A++++++++++++print(phonebook%5Bperson%5D)%0A++++++++else%3A%0A++++++++++++print('unknown.')%0A%0A%0Aphone_dict+%3D+%7B%0A%09('Arm',+'Spartyan')%3A'56-78-90',%0A%09('Vlad',+'Tundyan')%3A'34-56-78',%0A%09('Kiazh',+'Damyan')%3A'48-76-54'%7D%0A%0A%23+function+call%0Alookup(phone_dict)%0A%0A&origin=opt-frontend.js&cumulative=false&heapPrimitives=false&drawParentPointers=false&textReferences=false&showOnlyOutputs=false&py=3&rawInputLstJSON=%5B%5D&curInstr=0&codeDivWidth=350&codeDivHeight=400\"> </iframe>"
   ]
  },
  {
   "cell_type": "markdown",
   "metadata": {},
   "source": [
    "## Sorting dict-s by keys"
   ]
  },
  {
   "cell_type": "code",
   "execution_count": 12,
   "metadata": {
    "collapsed": false
   },
   "outputs": [
    {
     "data": {
      "text/html": [
       "<iframe width=\"1000\" height=\"500\" frameborder=\"0\" src=\"http://pythontutor.com/iframe-embed.html#code=d+%3D+%7B'a'%3A10,+'b'%3A1,+'c'%3A22%7D%0A%0Aprint(d.items())%0A%0Afor+k,v+in+sorted(d.items())%3A%0A++++print(k,v)%0A%0A&origin=opt-frontend.js&cumulative=false&heapPrimitives=false&drawParentPointers=false&textReferences=false&showOnlyOutputs=false&py=3&rawInputLstJSON=%5B%5D&curInstr=9&codeDivWidth=350&codeDivHeight=400\"> </iframe>"
      ],
      "text/plain": [
       "<IPython.core.display.HTML object>"
      ]
     },
     "metadata": {},
     "output_type": "display_data"
    }
   ],
   "source": [
    "%%HTML\n",
    "<iframe width=\"1000\" height=\"500\" frameborder=\"0\" src=\"http://pythontutor.com/iframe-embed.html#code=d+%3D+%7B'a'%3A10,+'b'%3A1,+'c'%3A22%7D%0A%0Aprint(d.items())%0A%0Afor+k,v+in+sorted(d.items())%3A%0A++++print(k,v)%0A%0A&origin=opt-frontend.js&cumulative=false&heapPrimitives=false&drawParentPointers=false&textReferences=false&showOnlyOutputs=false&py=3&rawInputLstJSON=%5B%5D&curInstr=9&codeDivWidth=350&codeDivHeight=400\"> </iframe>"
   ]
  },
  {
   "cell_type": "code",
   "execution_count": null,
   "metadata": {
    "collapsed": true
   },
   "outputs": [],
   "source": []
  }
 ],
 "metadata": {
  "kernelspec": {
   "display_name": "Python 3",
   "language": "python",
   "name": "python3"
  },
  "language_info": {
   "codemirror_mode": {
    "name": "ipython",
    "version": 3
   },
   "file_extension": ".py",
   "mimetype": "text/x-python",
   "name": "python",
   "nbconvert_exporter": "python",
   "pygments_lexer": "ipython3",
   "version": "3.4.3"
  }
 },
 "nbformat": 4,
 "nbformat_minor": 0
}
