{
 "metadata": {
  "name": "",
  "signature": "sha256:673b7d8f3b1a3a72bc4e3d6b564debe1c4e6bb1265a29afc8f365c2e50bf553a"
 },
 "nbformat": 3,
 "nbformat_minor": 0,
 "worksheets": [
  {
   "cells": [
    {
     "cell_type": "code",
     "collapsed": false,
     "input": [
      "def BMI_v0(weight, height):\n",
      "    'prints BMI report'\n",
      "    \n",
      "    if (type(weight)!= type(1) or type(weight) != type(1.0)):\n",
      "        raise ValueError(\"Wrong input type, please enter number\")\n",
      "    \n",
      "    bmi = weight/height**2\n",
      "\n",
      "    if bmi < 18.5:\n",
      "        print('Underweight')\n",
      "    elif bmi < 25:\n",
      "        print('Normal')\n",
      "    else: # bmi >= 25\n",
      "        print('Overweight')\n",
      "\n",
      "        \n",
      "BMI_v0('70',1.7)"
     ],
     "language": "python",
     "metadata": {},
     "outputs": [
      {
       "ename": "ValueError",
       "evalue": "Wrong input type, please enter number",
       "output_type": "pyerr",
       "traceback": [
        "\u001b[1;31m---------------------------------------------------------------------------\u001b[0m\n\u001b[1;31mValueError\u001b[0m                                Traceback (most recent call last)",
        "\u001b[1;32m<ipython-input-1-64252aea7405>\u001b[0m in \u001b[0;36m<module>\u001b[1;34m()\u001b[0m\n\u001b[0;32m     15\u001b[0m \u001b[1;33m\u001b[0m\u001b[0m\n\u001b[0;32m     16\u001b[0m \u001b[1;33m\u001b[0m\u001b[0m\n\u001b[1;32m---> 17\u001b[1;33m \u001b[0mBMI_v0\u001b[0m\u001b[1;33m(\u001b[0m\u001b[1;34m'70'\u001b[0m\u001b[1;33m,\u001b[0m\u001b[1;36m1.7\u001b[0m\u001b[1;33m)\u001b[0m\u001b[1;33m\u001b[0m\u001b[0m\n\u001b[0m",
        "\u001b[1;32m<ipython-input-1-64252aea7405>\u001b[0m in \u001b[0;36mBMI_v0\u001b[1;34m(weight, height)\u001b[0m\n\u001b[0;32m      3\u001b[0m \u001b[1;33m\u001b[0m\u001b[0m\n\u001b[0;32m      4\u001b[0m     \u001b[1;32mif\u001b[0m \u001b[1;33m(\u001b[0m\u001b[0mtype\u001b[0m\u001b[1;33m(\u001b[0m\u001b[0mweight\u001b[0m\u001b[1;33m)\u001b[0m\u001b[1;33m!=\u001b[0m \u001b[0mtype\u001b[0m\u001b[1;33m(\u001b[0m\u001b[1;36m1\u001b[0m\u001b[1;33m)\u001b[0m \u001b[1;32mor\u001b[0m \u001b[0mtype\u001b[0m\u001b[1;33m(\u001b[0m\u001b[0mweight\u001b[0m\u001b[1;33m)\u001b[0m \u001b[1;33m!=\u001b[0m \u001b[0mtype\u001b[0m\u001b[1;33m(\u001b[0m\u001b[1;36m1.0\u001b[0m\u001b[1;33m)\u001b[0m\u001b[1;33m)\u001b[0m\u001b[1;33m:\u001b[0m\u001b[1;33m\u001b[0m\u001b[0m\n\u001b[1;32m----> 5\u001b[1;33m         \u001b[1;32mraise\u001b[0m \u001b[0mValueError\u001b[0m\u001b[1;33m(\u001b[0m\u001b[1;34m\"Wrong input type, please enter number\"\u001b[0m\u001b[1;33m)\u001b[0m\u001b[1;33m\u001b[0m\u001b[0m\n\u001b[0m\u001b[0;32m      6\u001b[0m \u001b[1;33m\u001b[0m\u001b[0m\n\u001b[0;32m      7\u001b[0m     \u001b[0mbmi\u001b[0m \u001b[1;33m=\u001b[0m \u001b[0mweight\u001b[0m\u001b[1;33m/\u001b[0m\u001b[0mheight\u001b[0m\u001b[1;33m**\u001b[0m\u001b[1;36m2\u001b[0m\u001b[1;33m\u001b[0m\u001b[0m\n",
        "\u001b[1;31mValueError\u001b[0m: Wrong input type, please enter number"
       ]
      }
     ],
     "prompt_number": 1
    },
    {
     "cell_type": "code",
     "collapsed": false,
     "input": [
      "def BMI_v1(weight, height):\n",
      "    'prints BMI report'\n",
      "    \n",
      "    if not (isinstance(weight, (int, float)) and isinstance(height, (int, float))):\n",
      "        raise ValueError(\"Wrong input type, please enter number\")\n",
      "    \n",
      "    bmi = weight/height**2\n",
      "\n",
      "    if bmi < 18.5:\n",
      "        print('Underweight')\n",
      "    elif bmi < 25:\n",
      "        print('Normal')\n",
      "    else: # bmi >= 25\n",
      "        print('Overweight')\n",
      "        \n",
      "BMI_v1('70',1.7)"
     ],
     "language": "python",
     "metadata": {},
     "outputs": [
      {
       "ename": "ValueError",
       "evalue": "Wrong input type, please enter number",
       "output_type": "pyerr",
       "traceback": [
        "\u001b[1;31m---------------------------------------------------------------------------\u001b[0m\n\u001b[1;31mValueError\u001b[0m                                Traceback (most recent call last)",
        "\u001b[1;32m<ipython-input-2-805961e9e47c>\u001b[0m in \u001b[0;36m<module>\u001b[1;34m()\u001b[0m\n\u001b[0;32m     14\u001b[0m         \u001b[0mprint\u001b[0m\u001b[1;33m(\u001b[0m\u001b[1;34m'Overweight'\u001b[0m\u001b[1;33m)\u001b[0m\u001b[1;33m\u001b[0m\u001b[0m\n\u001b[0;32m     15\u001b[0m \u001b[1;33m\u001b[0m\u001b[0m\n\u001b[1;32m---> 16\u001b[1;33m \u001b[0mBMI_v1\u001b[0m\u001b[1;33m(\u001b[0m\u001b[1;34m'70'\u001b[0m\u001b[1;33m,\u001b[0m\u001b[1;36m1.7\u001b[0m\u001b[1;33m)\u001b[0m\u001b[1;33m\u001b[0m\u001b[0m\n\u001b[0m",
        "\u001b[1;32m<ipython-input-2-805961e9e47c>\u001b[0m in \u001b[0;36mBMI_v1\u001b[1;34m(weight, height)\u001b[0m\n\u001b[0;32m      3\u001b[0m \u001b[1;33m\u001b[0m\u001b[0m\n\u001b[0;32m      4\u001b[0m     \u001b[1;32mif\u001b[0m \u001b[1;32mnot\u001b[0m \u001b[1;33m(\u001b[0m\u001b[0misinstance\u001b[0m\u001b[1;33m(\u001b[0m\u001b[0mweight\u001b[0m\u001b[1;33m,\u001b[0m \u001b[1;33m(\u001b[0m\u001b[0mint\u001b[0m\u001b[1;33m,\u001b[0m \u001b[0mfloat\u001b[0m\u001b[1;33m)\u001b[0m\u001b[1;33m)\u001b[0m \u001b[1;32mand\u001b[0m \u001b[0misinstance\u001b[0m\u001b[1;33m(\u001b[0m\u001b[0mheight\u001b[0m\u001b[1;33m,\u001b[0m \u001b[1;33m(\u001b[0m\u001b[0mint\u001b[0m\u001b[1;33m,\u001b[0m \u001b[0mfloat\u001b[0m\u001b[1;33m)\u001b[0m\u001b[1;33m)\u001b[0m\u001b[1;33m)\u001b[0m\u001b[1;33m:\u001b[0m\u001b[1;33m\u001b[0m\u001b[0m\n\u001b[1;32m----> 5\u001b[1;33m         \u001b[1;32mraise\u001b[0m \u001b[0mValueError\u001b[0m\u001b[1;33m(\u001b[0m\u001b[1;34m\"Wrong input type, please enter number\"\u001b[0m\u001b[1;33m)\u001b[0m\u001b[1;33m\u001b[0m\u001b[0m\n\u001b[0m\u001b[0;32m      6\u001b[0m \u001b[1;33m\u001b[0m\u001b[0m\n\u001b[0;32m      7\u001b[0m     \u001b[0mbmi\u001b[0m \u001b[1;33m=\u001b[0m \u001b[0mweight\u001b[0m\u001b[1;33m/\u001b[0m\u001b[0mheight\u001b[0m\u001b[1;33m**\u001b[0m\u001b[1;36m2\u001b[0m\u001b[1;33m\u001b[0m\u001b[0m\n",
        "\u001b[1;31mValueError\u001b[0m: Wrong input type, please enter number"
       ]
      }
     ],
     "prompt_number": 2
    },
    {
     "cell_type": "code",
     "collapsed": false,
     "input": [
      "def factorial(n):\n",
      "    '''returns n! for input \n",
      "    integer n\n",
      "    >>> factorial(4)\n",
      "    24\n",
      "    >>> factorial(6)\n",
      "    720\n",
      "    '''\n",
      "    res = 1\n",
      "    for i in range(2, n+1):\n",
      "        res *= i\n",
      "    return res\n",
      "\n",
      "import doctest\n",
      "doctest.testmod(verbose=True)"
     ],
     "language": "python",
     "metadata": {},
     "outputs": [
      {
       "output_type": "stream",
       "stream": "stdout",
       "text": [
        "Trying:\n",
        "    factorial(4)\n",
        "Expecting:\n",
        "    24\n",
        "ok\n",
        "Trying:\n",
        "    factorial(6)\n",
        "Expecting:\n",
        "    720\n",
        "ok\n",
        "3 items had no tests:\n",
        "    __main__\n",
        "    __main__.BMI_v0\n",
        "    __main__.BMI_v1\n",
        "1 items passed all tests:\n",
        "   2 tests in __main__.factorial\n",
        "2 tests in 4 items.\n",
        "2 passed and 0 failed.\n",
        "Test passed.\n"
       ]
      },
      {
       "metadata": {},
       "output_type": "pyout",
       "prompt_number": 3,
       "text": [
        "TestResults(failed=0, attempted=2)"
       ]
      }
     ],
     "prompt_number": 3
    },
    {
     "cell_type": "code",
     "collapsed": false,
     "input": [
      "help(doctest)"
     ],
     "language": "python",
     "metadata": {},
     "outputs": []
    },
    {
     "cell_type": "code",
     "collapsed": false,
     "input": [
      "%%writefile factorial.py\n",
      "def factorial(n):\n",
      "    '''returns n! for input \n",
      "    integer n\n",
      "    >>> factorial(4)\n",
      "    24\n",
      "    >>> factorial(6)\n",
      "    720\n",
      "    '''\n",
      "    res = 1\n",
      "    for i in range(2, n+1):\n",
      "        res *= i\n",
      "    return res\n",
      "\n",
      "def _test():\n",
      "    import doctest\n",
      "    doctest.testmod(verbose=True)\n",
      "    \n",
      "if __name__ == \"__main__\":\n",
      "    _test()"
     ],
     "language": "python",
     "metadata": {},
     "outputs": [
      {
       "output_type": "stream",
       "stream": "stdout",
       "text": [
        "Overwriting factorial.py\n"
       ]
      }
     ],
     "prompt_number": 4
    },
    {
     "cell_type": "code",
     "collapsed": false,
     "input": [
      "%run factorial"
     ],
     "language": "python",
     "metadata": {},
     "outputs": [
      {
       "output_type": "stream",
       "stream": "stdout",
       "text": [
        "Trying:\n",
        "    factorial(4)\n",
        "Expecting:\n",
        "    24\n",
        "ok\n",
        "Trying:\n",
        "    factorial(6)\n",
        "Expecting:\n",
        "    720\n",
        "ok\n",
        "2 items had no tests:\n",
        "    __main__\n",
        "    __main__._test\n",
        "1 items passed all tests:\n",
        "   2 tests in __main__.factorial\n",
        "2 tests in 3 items.\n",
        "2 passed and 0 failed.\n",
        "Test passed.\n"
       ]
      }
     ],
     "prompt_number": 5
    },
    {
     "cell_type": "code",
     "collapsed": false,
     "input": [
      "import factorial # import factorial.py \n",
      "f5 = factorial.factorial(5)\n",
      "f6 = factorial.factorial(6)\n",
      "\n",
      "print(f5,f6)"
     ],
     "language": "python",
     "metadata": {},
     "outputs": [
      {
       "output_type": "stream",
       "stream": "stdout",
       "text": [
        "120 720\n"
       ]
      }
     ],
     "prompt_number": 6
    },
    {
     "cell_type": "code",
     "collapsed": false,
     "input": [
      "dir(factorial) # check content of factorial.py"
     ],
     "language": "python",
     "metadata": {},
     "outputs": [
      {
       "metadata": {},
       "output_type": "pyout",
       "prompt_number": 7,
       "text": [
        "['__builtins__',\n",
        " '__cached__',\n",
        " '__doc__',\n",
        " '__file__',\n",
        " '__initializing__',\n",
        " '__loader__',\n",
        " '__name__',\n",
        " '__package__',\n",
        " '_test',\n",
        " 'factorial']"
       ]
      }
     ],
     "prompt_number": 7
    },
    {
     "cell_type": "code",
     "collapsed": false,
     "input": [
      "for name in dir(factorial):\n",
      "    if not name.startswith('__'):\n",
      "        print(name)"
     ],
     "language": "python",
     "metadata": {},
     "outputs": [
      {
       "output_type": "stream",
       "stream": "stdout",
       "text": [
        "_test\n",
        "factorial\n"
       ]
      }
     ],
     "prompt_number": 8
    },
    {
     "cell_type": "code",
     "collapsed": false,
     "input": [],
     "language": "python",
     "metadata": {},
     "outputs": []
    }
   ],
   "metadata": {}
  }
 ]
}
