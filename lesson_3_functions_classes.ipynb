{
 "metadata": {
  "name": "",
  "signature": "sha256:2feb42cc805a9837c9555934cd1e55dee482020bf1e08d67e131b9cbb0a6cac5"
 },
 "nbformat": 3,
 "nbformat_minor": 0,
 "worksheets": [
  {
   "cells": [
    {
     "cell_type": "markdown",
     "metadata": {},
     "source": [
      "###Python standard library"
     ]
    },
    {
     "cell_type": "code",
     "collapsed": false,
     "input": [
      "from IPython.core.display import HTML\n",
      "HTML(\"<iframe src=https://docs.python.org/3/py-modindex.html width=1000 height=350></iframe>\")"
     ],
     "language": "python",
     "metadata": {},
     "outputs": [
      {
       "html": [
        "<iframe src=https://docs.python.org/3/py-modindex.html width=1000 height=350></iframe>"
       ],
       "metadata": {},
       "output_type": "pyout",
       "prompt_number": 36,
       "text": [
        "<IPython.core.display.HTML at 0x47c5190>"
       ]
      }
     ],
     "prompt_number": 36
    },
    {
     "cell_type": "markdown",
     "metadata": {},
     "source": [
      "###Defining functions"
     ]
    },
    {
     "cell_type": "code",
     "collapsed": false,
     "input": [
      "src = \"\"\"<iframe width=\"800\" height=\"350\" frameborder=\"0\" src=\"http://pythontutor.com/iframe-embed.html#code=def+f(x)%3A%0A%09return+3*x%2B2%0A%0Ay+%3D+f(5)%0Aprint(y)&origin=opt-frontend.js&cumulative=false&heapPrimitives=false&drawParentPointers=false&textReferences=false&showOnlyOutputs=false&py=3&rawInputLstJSON=%5B%5D&curInstr=6&codeDivWidth=350&codeDivHeight=400\"> </iframe>\n",
      "\"\"\"\n",
      "HTML(src)"
     ],
     "language": "python",
     "metadata": {},
     "outputs": []
    },
    {
     "cell_type": "markdown",
     "metadata": {},
     "source": [
      "###Defining vs Calling : \u054d\u0561\u0570\u0574\u0561\u0576\u0565\u056c vs \u053f\u0561\u0576\u0579\u0565\u056c"
     ]
    },
    {
     "cell_type": "code",
     "collapsed": false,
     "input": [
      "src = \"\"\"<iframe width=\"800\" height=\"500\" frameborder=\"0\" src=\"http://pythontutor.com/iframe-embed.html#code=def+f(x)%3A%0A++++res+%3D+x**2+%2B+10%0A++++return+res&origin=opt-frontend.js&cumulative=false&heapPrimitives=false&drawParentPointers=false&textReferences=false&showOnlyOutputs=false&py=3&rawInputLstJSON=%5B%5D&curInstr=0&codeDivWidth=350&codeDivHeight=400\"> </iframe>\n",
      "\"\"\"\n",
      "HTML(src)"
     ],
     "language": "python",
     "metadata": {},
     "outputs": []
    },
    {
     "cell_type": "code",
     "collapsed": false,
     "input": [
      "src = \"\"\"<iframe width=\"800\" height=\"500\" frameborder=\"0\" src=\"http://pythontutor.com/iframe-embed.html#code=def+f(x)%3A%0A++++res+%3D+x**2+%2B+10%0A++++return+res%0A++++%0Af(7)&origin=opt-frontend.js&cumulative=false&heapPrimitives=false&drawParentPointers=false&textReferences=false&showOnlyOutputs=false&py=3&rawInputLstJSON=%5B%5D&curInstr=0&codeDivWidth=350&codeDivHeight=400\"> </iframe>\n",
      "\"\"\"\n",
      "HTML(src)"
     ],
     "language": "python",
     "metadata": {},
     "outputs": []
    },
    {
     "cell_type": "code",
     "collapsed": false,
     "input": [
      "src = \"\"\"<iframe width=\"800\" height=\"500\" frameborder=\"0\" src=\"http://pythontutor.com/iframe-embed.html#code=def+f(x)%3A%0A++++res+%3D+x**2+%2B+10%0A++++return+res%0A++++%0Ay+%3D+f(7)%0Aprint(y)&origin=opt-frontend.js&cumulative=false&heapPrimitives=false&drawParentPointers=false&textReferences=false&showOnlyOutputs=false&py=3&rawInputLstJSON=%5B%5D&curInstr=0&codeDivWidth=350&codeDivHeight=400\"> </iframe>\n",
      "\"\"\"\n",
      "HTML(src)"
     ],
     "language": "python",
     "metadata": {},
     "outputs": []
    },
    {
     "cell_type": "markdown",
     "metadata": {},
     "source": [
      "###Multi-line strings and function documentation"
     ]
    },
    {
     "cell_type": "code",
     "collapsed": false,
     "input": [
      "def square(num):\n",
      "    \"\"\" (number) -> number\n",
      "    Returns the square of   \n",
      "       num.\n",
      "    >>> square(3)\n",
      "    9\n",
      "    \"\"\"\n",
      "    return num**2\n",
      "\n",
      "print(square(2))\n",
      "print(\"-------\")\n",
      "help(square)"
     ],
     "language": "python",
     "metadata": {},
     "outputs": [
      {
       "output_type": "stream",
       "stream": "stdout",
       "text": [
        "4\n",
        "-------\n",
        "Help on function square in module __main__:\n",
        "\n",
        "square(num)\n",
        "    (number) -> number\n",
        "    Returns the square of   \n",
        "       num.\n",
        "    >>> square(3)\n",
        "    9\n",
        "\n"
       ]
      }
     ],
     "prompt_number": 44
    },
    {
     "cell_type": "markdown",
     "metadata": {},
     "source": [
      "### Time module"
     ]
    },
    {
     "cell_type": "code",
     "collapsed": false,
     "input": [
      "import time"
     ],
     "language": "python",
     "metadata": {},
     "outputs": [],
     "prompt_number": 3
    },
    {
     "cell_type": "code",
     "collapsed": false,
     "input": [
      "time.daylight"
     ],
     "language": "python",
     "metadata": {},
     "outputs": [
      {
       "metadata": {},
       "output_type": "pyout",
       "prompt_number": 8,
       "text": [
        "0"
       ]
      }
     ],
     "prompt_number": 8
    },
    {
     "cell_type": "code",
     "collapsed": false,
     "input": [
      "time.gmtime()"
     ],
     "language": "python",
     "metadata": {},
     "outputs": [
      {
       "metadata": {},
       "output_type": "pyout",
       "prompt_number": 11,
       "text": [
        "time.struct_time(tm_year=2014, tm_mon=12, tm_mday=5, tm_hour=10, tm_min=2, tm_sec=41, tm_wday=4, tm_yday=339, tm_isdst=0)"
       ]
      }
     ],
     "prompt_number": 11
    },
    {
     "cell_type": "code",
     "collapsed": false,
     "input": [
      "time.localtime()"
     ],
     "language": "python",
     "metadata": {},
     "outputs": [
      {
       "metadata": {},
       "output_type": "pyout",
       "prompt_number": 13,
       "text": [
        "time.struct_time(tm_year=2014, tm_mon=12, tm_mday=5, tm_hour=14, tm_min=3, tm_sec=48, tm_wday=4, tm_yday=339, tm_isdst=0)"
       ]
      }
     ],
     "prompt_number": 13
    },
    {
     "cell_type": "code",
     "collapsed": false,
     "input": [
      "time.sleep(5) # \u0570\u056b\u0576\u0563 \u057e\u0561\u0575\u0580\u056f\u0575\u0561\u0576 \u0578\u0579\u056b\u0576\u0579 \u0574\u056b \u0561\u0580\u0561"
     ],
     "language": "python",
     "metadata": {},
     "outputs": [],
     "prompt_number": 14
    },
    {
     "cell_type": "markdown",
     "metadata": {},
     "source": [
      "###pass statement"
     ]
    },
    {
     "cell_type": "code",
     "collapsed": false,
     "input": [
      "def myfunc():\n",
      "    pass\n",
      "\n",
      "myfunc()# no output"
     ],
     "language": "python",
     "metadata": {},
     "outputs": [],
     "prompt_number": 50
    },
    {
     "cell_type": "code",
     "collapsed": false,
     "input": [
      "type(myfunc)\n"
     ],
     "language": "python",
     "metadata": {},
     "outputs": [
      {
       "metadata": {},
       "output_type": "pyout",
       "prompt_number": 52,
       "text": [
        "function"
       ]
      }
     ],
     "prompt_number": 52
    },
    {
     "cell_type": "code",
     "collapsed": false,
     "input": [
      "class Example:\n",
      "    pass\n",
      "\n",
      "Example()# create object from class"
     ],
     "language": "python",
     "metadata": {},
     "outputs": [
      {
       "metadata": {},
       "output_type": "pyout",
       "prompt_number": 63,
       "text": [
        "<__main__.Example at 0x47d1ef0>"
       ]
      }
     ],
     "prompt_number": 63
    },
    {
     "cell_type": "code",
     "collapsed": false,
     "input": [
      "e = Example()# create object Example"
     ],
     "language": "python",
     "metadata": {},
     "outputs": [],
     "prompt_number": 62
    },
    {
     "cell_type": "markdown",
     "metadata": {},
     "source": [
      "###Example class"
     ]
    },
    {
     "cell_type": "code",
     "collapsed": false,
     "input": [
      "class Example():\n",
      "    def methodA(self):\n",
      "        pass\n",
      "\n",
      "    def methodB(self):\n",
      "        pass\n"
     ],
     "language": "python",
     "metadata": {},
     "outputs": [],
     "prompt_number": 64
    },
    {
     "cell_type": "code",
     "collapsed": false,
     "input": [
      "e = Example()\n",
      "e.methodA()# call methodA\n",
      "e.methodB()# call methodB"
     ],
     "language": "python",
     "metadata": {},
     "outputs": [],
     "prompt_number": 66
    },
    {
     "cell_type": "code",
     "collapsed": false,
     "input": [
      "class Example():\n",
      "    def methodA(self):\n",
      "        print(\"Hi from methodA\")\n",
      "\n",
      "    def methodB(self):\n",
      "        print(\"Hi from methodB\")\n",
      "\n",
      "e = Example()\n",
      "e.methodA()\n",
      "e.methodB()"
     ],
     "language": "python",
     "metadata": {},
     "outputs": [
      {
       "output_type": "stream",
       "stream": "stdout",
       "text": [
        "Hi from methodA\n",
        "Hi from methodB\n"
       ]
      }
     ],
     "prompt_number": 67
    }
   ],
   "metadata": {}
  }
 ]
}
