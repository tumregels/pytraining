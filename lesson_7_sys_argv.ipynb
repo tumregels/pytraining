{
 "metadata": {
  "name": "",
  "signature": "sha256:9c8a6422ee436311c80f133bb8ac215dc948795f4bb456928761c1ac91239b3f"
 },
 "nbformat": 3,
 "nbformat_minor": 0,
 "worksheets": [
  {
   "cells": [
    {
     "cell_type": "markdown",
     "metadata": {},
     "source": [
      "###Accessing Command-Line Arguments"
     ]
    },
    {
     "cell_type": "code",
     "collapsed": false,
     "input": [
      "%cd C:\\Users\\training\\Desktop #go to Desktop"
     ],
     "language": "python",
     "metadata": {},
     "outputs": [
      {
       "output_type": "stream",
       "stream": "stdout",
       "text": [
        "C:\\Users\\training\\Desktop\n"
       ]
      }
     ],
     "prompt_number": 1
    },
    {
     "cell_type": "code",
     "collapsed": false,
     "input": [
      "%%writefile test.py\n",
      "import sys\n",
      "\n",
      "print(sys.argv[0])\n",
      "print(sys.argv[1])"
     ],
     "language": "python",
     "metadata": {},
     "outputs": [
      {
       "output_type": "stream",
       "stream": "stdout",
       "text": [
        "Writing test.py\n"
       ]
      }
     ],
     "prompt_number": 2
    },
    {
     "cell_type": "code",
     "collapsed": false,
     "input": [
      "%ls -l test.py"
     ],
     "language": "python",
     "metadata": {},
     "outputs": [
      {
       "output_type": "stream",
       "stream": "stdout",
       "text": [
        " Volymen i enhet C har etiketten OS\n",
        " Volymens serienummer \u201er 6054-AEA3\n",
        "\n",
        " Inneh\u2020ll i katalogen C:\\Users\\training\\Desktop\n",
        "\n",
        "\n",
        " Inneh\u2020ll i katalogen C:\\Users\\training\\Desktop\n",
        "\n",
        "12/16/2014  10:14 AM                52 test.py\n",
        "               1 fil(er)                  52 byte\n",
        "               0 katalog(er)  18,933,071,872 byte ledigt\n"
       ]
      }
     ],
     "prompt_number": 3
    },
    {
     "cell_type": "code",
     "collapsed": false,
     "input": [
      "%load test.py #show content of the file test.py"
     ],
     "language": "python",
     "metadata": {},
     "outputs": [],
     "prompt_number": 4
    },
    {
     "cell_type": "code",
     "collapsed": false,
     "input": [
      "import sys\n",
      "\n",
      "print(sys.argv[0])\n",
      "print(sys.argv[1])"
     ],
     "language": "python",
     "metadata": {},
     "outputs": []
    },
    {
     "cell_type": "code",
     "collapsed": false,
     "input": [
      "%run test 5"
     ],
     "language": "python",
     "metadata": {},
     "outputs": [
      {
       "output_type": "stream",
       "stream": "stdout",
       "text": [
        "test.py\n",
        "5\n"
       ]
      }
     ],
     "prompt_number": 5
    },
    {
     "cell_type": "code",
     "collapsed": false,
     "input": [
      "!python test.py Barev!"
     ],
     "language": "python",
     "metadata": {},
     "outputs": [
      {
       "output_type": "stream",
       "stream": "stdout",
       "text": [
        "test.py\n",
        "Barev!\n"
       ]
      }
     ],
     "prompt_number": 6
    },
    {
     "cell_type": "code",
     "collapsed": false,
     "input": [
      "%%writefile test_2.py\n",
      "import sys\n",
      "\n",
      "print('Number of arguments:', len(sys.argv), 'arguments.')\n",
      "print('Argument List:', str(sys.argv))\n"
     ],
     "language": "python",
     "metadata": {},
     "outputs": [
      {
       "output_type": "stream",
       "stream": "stdout",
       "text": [
        "Writing test_2.py\n"
       ]
      }
     ],
     "prompt_number": 7
    },
    {
     "cell_type": "code",
     "collapsed": false,
     "input": [
      "!python test_2.py 1 2 3"
     ],
     "language": "python",
     "metadata": {},
     "outputs": [
      {
       "output_type": "stream",
       "stream": "stdout",
       "text": [
        "Number of arguments: 4 arguments.\n",
        "Argument List: ['test_2.py', '1', '2', '3']\n"
       ]
      }
     ],
     "prompt_number": 9
    },
    {
     "cell_type": "code",
     "collapsed": false,
     "input": [
      "!py -3 test_2.py 1 2 3"
     ],
     "language": "python",
     "metadata": {},
     "outputs": [
      {
       "output_type": "stream",
       "stream": "stdout",
       "text": [
        "Number of arguments: 4 arguments.\n",
        "Argument List: ['test_2.py', '1', '2', '3']\n"
       ]
      }
     ],
     "prompt_number": 8
    },
    {
     "cell_type": "code",
     "collapsed": false,
     "input": [
      "%%writefile first.bat\n",
      "C:\\Python34\\python.exe test_2.py 1 2 3"
     ],
     "language": "python",
     "metadata": {},
     "outputs": [
      {
       "output_type": "stream",
       "stream": "stdout",
       "text": [
        "Writing first.bat\n"
       ]
      }
     ],
     "prompt_number": 20
    },
    {
     "cell_type": "code",
     "collapsed": false,
     "input": [
      "%load first.bat # show first.bat content"
     ],
     "language": "python",
     "metadata": {},
     "outputs": [],
     "prompt_number": 21
    },
    {
     "cell_type": "code",
     "collapsed": false,
     "input": [
      "C:\\Python34\\python.exe test_2.py 1 2 3"
     ],
     "language": "python",
     "metadata": {},
     "outputs": []
    },
    {
     "cell_type": "code",
     "collapsed": false,
     "input": [
      "!first.bat # execute first.bat"
     ],
     "language": "python",
     "metadata": {},
     "outputs": [
      {
       "output_type": "stream",
       "stream": "stdout",
       "text": [
        "\n",
        "C:\\Users\\training\\Desktop>C:\\Python34\\python.exe test_2.py 1 2 3 \n",
        "Number of arguments: 4 arguments.\n",
        "Argument List: ['test_2.py', '1', '2', '3']\n"
       ]
      }
     ],
     "prompt_number": 22
    },
    {
     "cell_type": "code",
     "collapsed": false,
     "input": [
      "%%writefile print_two_args.py\n",
      "import sys\n",
      "\n",
      "arg1 = sys.argv[1]\n",
      "arg2 = sys.argv[2]\n",
      "\n",
      "print(arg1 + \" : \" + arg2)"
     ],
     "language": "python",
     "metadata": {},
     "outputs": [
      {
       "output_type": "stream",
       "stream": "stdout",
       "text": [
        "Writing print_two_args.py\n"
       ]
      }
     ],
     "prompt_number": 10
    },
    {
     "cell_type": "code",
     "collapsed": false,
     "input": [
      "# all the same if default is python 3\n",
      "!python print_two_args.py hello armenia\n",
      "!py -3 print_two_args.py hello armenia\n",
      "%run print_two_args.py hello armenia"
     ],
     "language": "python",
     "metadata": {},
     "outputs": [
      {
       "output_type": "stream",
       "stream": "stdout",
       "text": [
        "hello : armenia\n"
       ]
      },
      {
       "output_type": "stream",
       "stream": "stdout",
       "text": [
        "hello : armenia\n",
        "hello : armenia\n"
       ]
      }
     ],
     "prompt_number": 23
    },
    {
     "cell_type": "code",
     "collapsed": false,
     "input": [
      "%%writefile sum_args.py\n",
      "import sys\n",
      "\n",
      "arg1 = float(sys.argv[1])\n",
      "arg2 = float(sys.argv[2])\n",
      "\n",
      "print(arg1 + arg2)"
     ],
     "language": "python",
     "metadata": {},
     "outputs": [
      {
       "output_type": "stream",
       "stream": "stdout",
       "text": [
        "Writing sum_args.py\n"
       ]
      }
     ],
     "prompt_number": 13
    },
    {
     "cell_type": "code",
     "collapsed": false,
     "input": [
      "!py -3 sum_args.py 1 2 #use python 3 interpreter"
     ],
     "language": "python",
     "metadata": {},
     "outputs": [
      {
       "output_type": "stream",
       "stream": "stdout",
       "text": [
        "3.0\n"
       ]
      }
     ],
     "prompt_number": 24
    },
    {
     "cell_type": "code",
     "collapsed": false,
     "input": [
      "!py -2 sum_args.py 1 2 #use python 2 interpreter"
     ],
     "language": "python",
     "metadata": {},
     "outputs": [
      {
       "output_type": "stream",
       "stream": "stdout",
       "text": [
        "3.0\n"
       ]
      }
     ],
     "prompt_number": 25
    },
    {
     "cell_type": "code",
     "collapsed": false,
     "input": [
      "%%writefile test_argv.py\n",
      "import sys\n",
      "\n",
      "if len(sys.argv) < 2:\n",
      "    sys.exit('Usage: {} filename'.format(sys.argv[0]))\n",
      "    \n",
      "infile = open(sys.argv[1])\n",
      "s = infile.read()\n",
      "print(s)"
     ],
     "language": "python",
     "metadata": {},
     "outputs": [
      {
       "output_type": "stream",
       "stream": "stdout",
       "text": [
        "Writing test_argv.py\n"
       ]
      }
     ],
     "prompt_number": 16
    },
    {
     "cell_type": "code",
     "collapsed": false,
     "input": [
      "!py -3 test_argv.py"
     ],
     "language": "python",
     "metadata": {},
     "outputs": [
      {
       "output_type": "stream",
       "stream": "stderr",
       "text": [
        "Usage: test_argv.py filename\n"
       ]
      }
     ],
     "prompt_number": 17
    },
    {
     "cell_type": "code",
     "collapsed": false,
     "input": [
      "!py -3 test_argv.py test_argv.py #prints itself"
     ],
     "language": "python",
     "metadata": {},
     "outputs": [
      {
       "output_type": "stream",
       "stream": "stdout",
       "text": [
        "import sys\n",
        "\n",
        "if len(sys.argv) < 2:\n",
        "    sys.exit('Usage: {} filename'.format(sys.argv[0]))\n",
        "    \n",
        "infile = open(sys.argv[1])\n",
        "s = infile.read()\n",
        "print(s)\n"
       ]
      }
     ],
     "prompt_number": 18
    },
    {
     "cell_type": "code",
     "collapsed": false,
     "input": [
      "!py -2 test_argv.py test_argv.py #prints itself using python 2"
     ],
     "language": "python",
     "metadata": {},
     "outputs": [
      {
       "output_type": "stream",
       "stream": "stdout",
       "text": [
        "import sys\n",
        "\n",
        "if len(sys.argv) < 2:\n",
        "    sys.exit('Usage: {} filename'.format(sys.argv[0]))\n",
        "    \n",
        "infile = open(sys.argv[1])\n",
        "s = infile.read()\n",
        "print(s)\n"
       ]
      }
     ],
     "prompt_number": 19
    },
    {
     "cell_type": "markdown",
     "metadata": {},
     "source": [
      "### Analogy between reading a file and a website\n",
      "\n",
      "#### open and read file\n",
      "\n",
      "    f = open('file.txt')\n",
      "    text = f.read()\n",
      "    f.close()\n",
      "\n",
      "#### open and read website\n",
      "\n",
      "    from urllib.request import urlopen\n",
      "\n",
      "    ff = urlopen('http://www.news.am')\n",
      "    text = ff.read()\n",
      "    ff.close()\n"
     ]
    },
    {
     "cell_type": "code",
     "collapsed": false,
     "input": [
      "from urllib.request import urlopen\n",
      "\n",
      "def armunicode(url):\n",
      "    ff = urlopen(url)\n",
      "    num = 0\n",
      "    for line in ff:\n",
      "        #print(line.decode(),end='')\n",
      "        for letter in line.decode():\n",
      "            if 0x0531<=ord(letter)<=0x058f:\n",
      "                num += 1\n",
      "\n",
      "    ff.close()\n",
      "    print(num)\n",
      "          \n",
      "armunicode('http://www.news.am/arm/')"
     ],
     "language": "python",
     "metadata": {},
     "outputs": [
      {
       "output_type": "stream",
       "stream": "stdout",
       "text": [
        "14428\n"
       ]
      }
     ],
     "prompt_number": 34
    }
   ],
   "metadata": {}
  }
 ]
}
