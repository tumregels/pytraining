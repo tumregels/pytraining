{
 "metadata": {
  "name": "",
  "signature": "sha256:6bfda9d021289e78da13e98d869f2263003cad9e670f0e5d271f100f1dc2dfea"
 },
 "nbformat": 3,
 "nbformat_minor": 0,
 "worksheets": [
  {
   "cells": [
    {
     "cell_type": "markdown",
     "metadata": {},
     "source": [
      "#Profile"
     ]
    },
    {
     "cell_type": "markdown",
     "metadata": {},
     "source": [
      "Run this command to generate needed profile"
     ]
    },
    {
     "cell_type": "code",
     "collapsed": false,
     "input": [
      "!ipython profile create"
     ],
     "language": "python",
     "metadata": {},
     "outputs": [
      {
       "output_type": "stream",
       "stream": "stderr",
       "text": [
        "[ProfileCreate] Generating default config file: u'C:\\\\Users\\\\Generosity\\\\.ipython\\\\profile_default\\\\ipython_config.py'\n",
        "[ProfileCreate] Generating default config file: u'C:\\\\Users\\\\Generosity\\\\.ipython\\\\profile_default\\\\ipython_qtconsole_config.py'\n",
        "[ProfileCreate] Generating default config file: u'C:\\\\Users\\\\Generosity\\\\.ipython\\\\profile_default\\\\ipython_notebook_config.py'\n",
        "[ProfileCreate] Generating default config file: u'C:\\\\Users\\\\Generosity\\\\.ipython\\\\profile_default\\\\ipython_nbconvert_config.py'\n"
       ]
      }
     ],
     "prompt_number": 1
    },
    {
     "cell_type": "markdown",
     "metadata": {},
     "source": [
      "Clone IPython-notebook-extensions.git repository"
     ]
    },
    {
     "cell_type": "code",
     "collapsed": false,
     "input": [
      "!git clone https://github.com/ipython-contrib/IPython-notebook-extensions.git"
     ],
     "language": "python",
     "metadata": {},
     "outputs": [
      {
       "output_type": "stream",
       "stream": "stderr",
       "text": [
        "fatal: destination path 'IPython-notebook-extensions' already exists and is not an empty directory.\n"
       ]
      }
     ],
     "prompt_number": 2
    },
    {
     "cell_type": "markdown",
     "metadata": {},
     "source": [
      "Checkout 2.x which is your IPython version, for older versions leave as it is"
     ]
    },
    {
     "cell_type": "raw",
     "metadata": {},
     "source": [
      "%cd IPython-notebook-extensions/\n",
      "!git checkout 2.x"
     ]
    },
    {
     "cell_type": "code",
     "collapsed": false,
     "input": [
      "!ls -l IPython-notebook-extensions/"
     ],
     "language": "python",
     "metadata": {},
     "outputs": [
      {
       "output_type": "stream",
       "stream": "stdout",
       "text": [
        "total 16\n",
        "-rw-r--r--    1 Generosi Administ     1786 Jan 22 12:36 COPYING.rst\n",
        "-rw-r--r--    1 Generosi Administ     1954 Jan 22 12:36 README.md\n",
        "-rw-r--r--    1 Generosi Administ     2615 Jan 22 12:46 custom.example.js\n",
        "drwxr-xr-x    8 Generosi Administ     4096 Jan 22 12:46 publishing\n",
        "drwxr-xr-x    4 Generosi Administ        0 Jan 22 12:46 slidemode\n",
        "drwxr-xr-x    4 Generosi Administ        0 Jan 22 12:36 styling\n",
        "drwxr-xr-x    6 Generosi Administ        0 Jan 22 12:36 testing\n",
        "drwxr-xr-x   29 Generosi Administ     8192 Jan 22 12:46 usability\n",
        "drwxr-xr-x   28 Generosi Administ    12288 Jan 22 12:46 wiki-images\n"
       ]
      }
     ],
     "prompt_number": 3
    },
    {
     "cell_type": "markdown",
     "metadata": {},
     "source": [
      "#Find profile directory"
     ]
    },
    {
     "cell_type": "code",
     "collapsed": false,
     "input": [
      "import IPython\n",
      "ip=IPython.get_ipython()\n",
      "profile_dir = ip.config.ProfileDir.location"
     ],
     "language": "python",
     "metadata": {},
     "outputs": [],
     "prompt_number": 4
    },
    {
     "cell_type": "code",
     "collapsed": false,
     "input": [
      "profile_dir"
     ],
     "language": "python",
     "metadata": {},
     "outputs": [
      {
       "metadata": {},
       "output_type": "pyout",
       "prompt_number": 5,
       "text": [
        "u'C:\\\\Users\\\\Generosity\\\\.ipython\\\\profile_default'"
       ]
      }
     ],
     "prompt_number": 5
    },
    {
     "cell_type": "markdown",
     "metadata": {},
     "source": [
      "#cd into static/custom"
     ]
    },
    {
     "cell_type": "code",
     "collapsed": false,
     "input": [
      "import os\n",
      "os.chdir(profile_dir + \"/static/custom\")\n",
      "os.getcwd()"
     ],
     "language": "python",
     "metadata": {},
     "outputs": [
      {
       "metadata": {},
       "output_type": "pyout",
       "prompt_number": 6,
       "text": [
        "'C:\\\\Users\\\\Generosity\\\\.ipython\\\\profile_default\\\\static\\\\custom'"
       ]
      }
     ],
     "prompt_number": 6
    },
    {
     "cell_type": "markdown",
     "metadata": {},
     "source": [
      "#Prepare custom.js"
     ]
    },
    {
     "cell_type": "markdown",
     "metadata": {},
     "source": [
      "1. Copy custom.js from the repository into a cell\n",
      "\n",
      "2. Add %%writefile magic with the directory to custom folder \n",
      "\n",
      "3. Uncomment the extension you want to add to startup,\n",
      "    e.g. slidemode/main was uncommented."
     ]
    },
    {
     "cell_type": "code",
     "collapsed": false,
     "input": [
      "%%writefile $profile_dir/static/custom/custom.js\n",
      "\n",
      "// we want strict javascript that fails on ambiguous syntax\n",
      "\"use strict\";\n",
      "\n",
      "// activate extensions only after Notebook is initialized\n",
      "require([\"base/js/events\"], function (events) {\n",
      "    $([IPython.events]).on(\"app_initialized.NotebookApp\", function () {\n",
      "    /*\n",
      "     * all exentensions from IPython-notebook-extensions, uncomment to activate\n",
      "     */\n",
      "        \n",
      "    // PUBLISHING\n",
      "//    IPython.load_extensions('publishing/nbviewer_theme/main')\n",
      "//    IPython.load_extensions('publishing/gist_it')\n",
      "//    IPython.load_extensions('publishing/nbconvert_button')\n",
      "//    IPython.load_extensions('publishing/printview_button')\n",
      "//    IPython.load_extensions('publishing/printviewmenu_button')\n",
      "    \n",
      "    // SLIDEMODE\n",
      "      IPython.load_extensions('slidemode/main')\n",
      "\n",
      "    \n",
      "    // STYLING\n",
      "//    IPython.load_extensions('styling/css_selector/main')\n",
      "    \n",
      "    // TESTING\n",
      "//    IPython.load_extensions('testing/hierarchical_collapse/main')\n",
      "//    IPython.load_extensions('testing/history/history'])\n",
      "//    IPython.load_extensions('testing/cellstate')\n",
      "    \n",
      "    // USABILITY\n",
      "//    IPython.load_extensions('usability/aspell/ipy-aspell')\n",
      "//    IPython.load_extensions('usability/codefolding/codefolding')\n",
      "//    IPython.load_extensions('usability/dragdrop/drag-and-drop')\n",
      "//    IPython.load_extensions('usability/runtools/runtools')\n",
      "//    IPython.load_extensions('usability/chrome_clipboard')\n",
      "//    IPython.load_extensions('usability/navigation-hotkeys')\n",
      "//    IPython.load_extensions('usability/shift-tab')\n",
      "//    IPython.load_extensions('usability/toggle_all_line_number')\n",
      "//    IPython.load_extensions('usability/help_panel/help_panel')\n",
      "//    IPython.load_extensions('usability/hide_input')\n",
      "//    IPython.load_extensions('usability/search')\n",
      "//    IPython.load_extensions('usability/split-combine'')\n",
      "//    IPython.load_extensions('usability/read-only')\n",
      "//    IPython.load_extensions('usability/init_cell/main')\n",
      "//    IPython.load_extensions('usability/autosavetime')\n",
      "//    IPython.load_extensions('usability/autoscroll')\n",
      "//    IPython.load_extensions('usability/breakpoints')\n",
      "//    IPython.load_extensions('usability/clean_start')\n",
      "//    IPython.load_extensions('usability/comment-uncomment')\n",
      "//    IPython.load_extensions('usability/linenumbers')\n",
      "//    IPython.load_extensions('usability/no_exec_dunder')\n",
      "//    IPython.load_extensions('usability/noscroll')\n",
      "//    IPython.load_extensions('usability/hide_io_selected')\n",
      "//    IPython.load_extensions('usability/execute_time/ExecuteTime')\n",
      "//    IPython.load_extensions('usability/python-markdown')\n",
      "\n",
      "    });\n",
      "});"
     ],
     "language": "python",
     "metadata": {},
     "outputs": [
      {
       "output_type": "stream",
       "stream": "stdout",
       "text": [
        "Overwriting C:\\Users\\Generosity\\.ipython\\profile_default/static/custom/custom.js\n"
       ]
      }
     ],
     "prompt_number": 8
    },
    {
     "cell_type": "markdown",
     "metadata": {},
     "source": [
      "#Install extensions"
     ]
    },
    {
     "cell_type": "markdown",
     "metadata": {},
     "source": [
      "You have again two options to install extensions\n",
      "\n",
      "1. copy extensions from downloaded `IPython-notebook-extensions.git` repo into `.ipython/nbextensions` folder\n",
      "    and activate them by uncommenting `custom.js` accordingly\n",
      "\n",
      "2. install extensions as shown below and organize them manually (optional)"
     ]
    },
    {
     "cell_type": "code",
     "collapsed": false,
     "input": [
      "js = 'https://raw.githubusercontent.com/ipython-contrib/IPython-notebook-extensions/2.x/slidemode/main.js'\n",
      "css = 'https://raw.githubusercontent.com/ipython-contrib/IPython-notebook-extensions/2.x/slidemode/main.css'\n",
      "\n",
      "import IPython\n",
      "IPython.html.nbextensions.install_nbextension(js)\n",
      "IPython.html.nbextensions.install_nbextension(css)"
     ],
     "language": "python",
     "metadata": {},
     "outputs": [
      {
       "output_type": "stream",
       "stream": "stdout",
       "text": [
        "downloading https://raw.githubusercontent.com/ipython-contrib/IPython-notebook-extensions/2.x/slidemode/main.js to c:\\users\\genero~1\\appdata\\local\\temp\\tmp71nhid\\main.js\n",
        "copying c:\\users\\genero~1\\appdata\\local\\temp\\tmp71nhid\\main.js -> C:\\Users\\Generosity\\.ipython\\nbextensions\\main.js"
       ]
      },
      {
       "output_type": "stream",
       "stream": "stdout",
       "text": [
        "\n",
        "downloading https://raw.githubusercontent.com/ipython-contrib/IPython-notebook-extensions/2.x/slidemode/main.css to c:\\users\\genero~1\\appdata\\local\\temp\\tmpnh4h93\\main.css\n",
        "copying c:\\users\\genero~1\\appdata\\local\\temp\\tmpnh4h93\\main.css -> C:\\Users\\Generosity\\.ipython\\nbextensions\\main.css"
       ]
      },
      {
       "output_type": "stream",
       "stream": "stdout",
       "text": [
        "\n"
       ]
      }
     ],
     "prompt_number": 9
    },
    {
     "cell_type": "markdown",
     "metadata": {},
     "source": [
      "#Organize installed extensions manually"
     ]
    },
    {
     "cell_type": "code",
     "collapsed": false,
     "input": [
      "%cd $profile_dir/../nbextensions"
     ],
     "language": "python",
     "metadata": {},
     "outputs": [
      {
       "output_type": "stream",
       "stream": "stdout",
       "text": [
        "C:\\Users\\Generosity\\.ipython\\nbextensions\n"
       ]
      }
     ],
     "prompt_number": 10
    },
    {
     "cell_type": "code",
     "collapsed": false,
     "input": [
      "%mkdir slidemode"
     ],
     "language": "python",
     "metadata": {},
     "outputs": [],
     "prompt_number": 11
    },
    {
     "cell_type": "code",
     "collapsed": false,
     "input": [
      "!mv main.js slidemode/"
     ],
     "language": "python",
     "metadata": {},
     "outputs": [],
     "prompt_number": 12
    },
    {
     "cell_type": "code",
     "collapsed": false,
     "input": [
      "!mv main.css slidemode/"
     ],
     "language": "python",
     "metadata": {},
     "outputs": [],
     "prompt_number": 13
    },
    {
     "cell_type": "markdown",
     "metadata": {},
     "source": [
      "Now it fits with the line description in custom.js\n",
      "```\n",
      "// SLIDEMODE\n",
      "IPython.load_extensions('slidemode/main')\n",
      "```"
     ]
    },
    {
     "cell_type": "markdown",
     "metadata": {},
     "source": [
      "#Startup files"
     ]
    },
    {
     "cell_type": "markdown",
     "metadata": {},
     "source": [
      "To import some specific modules on startup you have two options\n",
      "\n",
      "1. modify `.ipython/profile_default/ipython_config.py`\n",
      "\n",
      "2. modify `.ipython/profile_default/startup` folder"
     ]
    },
    {
     "cell_type": "code",
     "collapsed": false,
     "input": [
      "%cd $profile_dir"
     ],
     "language": "python",
     "metadata": {},
     "outputs": [
      {
       "output_type": "stream",
       "stream": "stdout",
       "text": [
        "C:\\Users\\Generosity\\.ipython\\profile_default\n"
       ]
      }
     ],
     "prompt_number": 14
    },
    {
     "cell_type": "code",
     "collapsed": false,
     "input": [
      "%load -r 1-4,25-40 ipython_config.py"
     ],
     "language": "python",
     "metadata": {},
     "outputs": [],
     "prompt_number": 15
    },
    {
     "cell_type": "code",
     "collapsed": false,
     "input": [
      "# Configuration file for ipython.\n",
      "\n",
      "c = get_config()\n",
      "\n",
      "\n",
      "# Run the file referenced by the PYTHONSTARTUP environment variable at IPython\n",
      "# startup.\n",
      "# c.InteractiveShellApp.exec_PYTHONSTARTUP = True\n",
      "\n",
      "# lines of code to run at IPython startup.\n",
      "# c.InteractiveShellApp.exec_lines = []\n",
      "\n",
      "# Enable GUI event loop integration with any of ('glut', 'gtk', 'gtk3', 'none',\n",
      "# 'osx', 'pyglet', 'qt', 'qt4', 'tk', 'wx').\n",
      "# c.InteractiveShellApp.gui = None\n",
      "\n",
      "# Pre-load matplotlib and numpy for interactive use, selecting a particular\n",
      "# matplotlib backend and loop integration.\n",
      "# c.InteractiveShellApp.pylab = None\n"
     ],
     "language": "python",
     "metadata": {},
     "outputs": []
    },
    {
     "cell_type": "markdown",
     "metadata": {},
     "source": [
      "add needed modules inside list `c.InteractiveShellApp.exec_lines = []` \n",
      "\n",
      "e.g. `c.InteractiveShellApp.exec_lines = [\"from IPython.display import IFrame\"]` "
     ]
    },
    {
     "cell_type": "markdown",
     "metadata": {},
     "source": [
      "To load some modules on startup just add those modules inside startup folder of your profile"
     ]
    },
    {
     "cell_type": "code",
     "collapsed": false,
     "input": [
      "!ls $profile_dir/startup"
     ],
     "language": "python",
     "metadata": {},
     "outputs": [
      {
       "output_type": "stream",
       "stream": "stdout",
       "text": [
        "README\n"
       ]
      }
     ],
     "prompt_number": 16
    },
    {
     "cell_type": "code",
     "collapsed": false,
     "input": [
      "%load $profile_dir/startup/README"
     ],
     "language": "python",
     "metadata": {},
     "outputs": [],
     "prompt_number": 18
    },
    {
     "cell_type": "raw",
     "metadata": {},
     "source": [
      "This is the IPython startup directory\n",
      "\n",
      ".py and .ipy files in this directory will be run *prior* to any code or files specified\n",
      "via the exec_lines or exec_files configurables whenever you load this profile.\n",
      "\n",
      "Files will be run in lexicographical order, so you can control the execution order of files\n",
      "with a prefix, e.g.::\n",
      "\n",
      "    00-first.py\n",
      "    50-middle.py\n",
      "    99-last.ipy\n"
     ]
    },
    {
     "cell_type": "code",
     "collapsed": false,
     "input": [
      "%%writefile $profile_dir/startup/simpleimports.py\n",
      "\n",
      "from IPython.display import IFrame, display"
     ],
     "language": "python",
     "metadata": {},
     "outputs": [
      {
       "output_type": "stream",
       "stream": "stdout",
       "text": [
        "Writing C:\\Users\\Generosity\\.ipython\\profile_default/startup/simpleimports.py\n"
       ]
      }
     ],
     "prompt_number": 20
    },
    {
     "cell_type": "code",
     "collapsed": false,
     "input": [],
     "language": "python",
     "metadata": {},
     "outputs": []
    }
   ],
   "metadata": {}
  }
 ]
}