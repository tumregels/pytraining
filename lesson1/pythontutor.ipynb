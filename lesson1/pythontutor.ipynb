{
 "cells": [
  {
   "cell_type": "code",
   "execution_count": 6,
   "metadata": {
    "collapsed": false
   },
   "outputs": [
    {
     "data": {
      "text/html": [
       "<iframe width=\"800\" height=\"400\" frameborder=\"0\" src=\"http://pythontutor.com/iframe-embed.html#code=x+%3D+3%0Aprint(x%29%0A%0Aprint(4*x%29%0A%0Ay&origin=opt-frontend.js&cumulative=false&heapPrimitives=false&textReferences=false&py=3&rawInputLstJSON=%5B%5D&curInstr=4&codeDivWidth=350&codeDivHeight=400\"> </iframe>"
      ],
      "text/plain": [
       "<IPython.core.display.HTML object>"
      ]
     },
     "metadata": {},
     "output_type": "display_data"
    }
   ],
   "source": [
    "%%HTML\n",
    "<iframe width=\"800\" height=\"400\" frameborder=\"0\" src=\"http://pythontutor.com/iframe-embed.html#code=x+%3D+3%0Aprint(x%29%0A%0Aprint(4*x%29%0A%0Ay&origin=opt-frontend.js&cumulative=false&heapPrimitives=false&textReferences=false&py=3&rawInputLstJSON=%5B%5D&curInstr=4&codeDivWidth=350&codeDivHeight=400\"> </iframe>"
   ]
  },
  {
   "cell_type": "code",
   "execution_count": 5,
   "metadata": {
    "collapsed": false
   },
   "outputs": [
    {
     "data": {
      "text/html": [
       "<iframe width=\"800\" height=\"600\" frameborder=\"0\" src=\"http://pythontutor.com/iframe-embed.html#code=s+%3D+'rock'%0At+%3D+'climbing'%0Aprint(s+%3D%3D+'rock'%29%0A%0Aprint(s+!%3D+t%29%0A%0Aprint(s+%3C+t%29%0A%0Aprint(s+%3E+t%29%0A%0Aprint(s+%2B+t%29%0A%0Aprint(s+%2B+'+'+%2B+t%29%0A%0Aprint(3+*+s%29%0A&origin=opt-frontend.js&cumulative=false&heapPrimitives=false&textReferences=false&py=3&rawInputLstJSON=%5B%5D&curInstr=9&codeDivWidth=350&codeDivHeight=400\"> </iframe>"
      ],
      "text/plain": [
       "<IPython.core.display.HTML object>"
      ]
     },
     "metadata": {},
     "output_type": "display_data"
    }
   ],
   "source": [
    "%%HTML\n",
    "<iframe width=\"800\" height=\"600\" frameborder=\"0\" src=\"http://pythontutor.com/iframe-embed.html#code=s+%3D+'rock'%0At+%3D+'climbing'%0Aprint(s+%3D%3D+'rock'%29%0A%0Aprint(s+!%3D+t%29%0A%0Aprint(s+%3C+t%29%0A%0Aprint(s+%3E+t%29%0A%0Aprint(s+%2B+t%29%0A%0Aprint(s+%2B+'+'+%2B+t%29%0A%0Aprint(3+*+s%29%0A&origin=opt-frontend.js&cumulative=false&heapPrimitives=false&textReferences=false&py=3&rawInputLstJSON=%5B%5D&curInstr=9&codeDivWidth=350&codeDivHeight=400\"> </iframe>"
   ]
  },
  {
   "cell_type": "code",
   "execution_count": 4,
   "metadata": {
    "collapsed": false
   },
   "outputs": [
    {
     "data": {
      "text/html": [
       "<iframe width=\"800\" height=\"600\" frameborder=\"0\" src=\"http://pythontutor.com/iframe-embed.html#code=s1+%3D+'good'%0A%0As2+%3D+'bad'%0A%0As3+%3D+'normal'%0A%0Aprint('ll'+in+s3%29%0A%0Aprint('+'+not+in+s1%29%0A%0Aprint(s1+%2B+s2+%2B+s3%29%0A%0Aprint('+'+in+s1+%2B+s2+%2B+s3%29%0A%0Aprint(3*s3%29%0A%0Aprint(len(s1%2Bs2%2Bs3%29%29%0A%0A&origin=opt-frontend.js&cumulative=false&heapPrimitives=false&textReferences=false&py=3&rawInputLstJSON=%5B%5D&curInstr=9&codeDivWidth=350&codeDivHeight=400\"> </iframe>"
      ],
      "text/plain": [
       "<IPython.core.display.HTML object>"
      ]
     },
     "metadata": {},
     "output_type": "display_data"
    }
   ],
   "source": [
    "%%HTML\n",
    "<iframe width=\"800\" height=\"600\" frameborder=\"0\" src=\"http://pythontutor.com/iframe-embed.html#code=s1+%3D+'good'%0A%0As2+%3D+'bad'%0A%0As3+%3D+'normal'%0A%0Aprint('ll'+in+s3%29%0A%0Aprint('+'+not+in+s1%29%0A%0Aprint(s1+%2B+s2+%2B+s3%29%0A%0Aprint('+'+in+s1+%2B+s2+%2B+s3%29%0A%0Aprint(3*s3%29%0A%0Aprint(len(s1%2Bs2%2Bs3%29%29%0A%0A&origin=opt-frontend.js&cumulative=false&heapPrimitives=false&textReferences=false&py=3&rawInputLstJSON=%5B%5D&curInstr=9&codeDivWidth=350&codeDivHeight=400\"> </iframe>"
   ]
  },
  {
   "cell_type": "code",
   "execution_count": 7,
   "metadata": {
    "collapsed": false
   },
   "outputs": [
    {
     "data": {
      "text/html": [
       "<iframe width=\"800\" height=\"500\" frameborder=\"0\" src=\"http://pythontutor.com/iframe-embed.html#code=s+%3D+'abcdefgh'%0A%0Aprint(s%5B0%5D%29%0A%0Aprint(s%5B2%5D%29%0A%0Aprint(s%5B7%5D%29%0A%0Aprint(s%5B-1%5D%29%0A%0Aprint(s%5B-3%5D%29%0A&origin=opt-frontend.js&cumulative=false&heapPrimitives=false&textReferences=false&py=3&rawInputLstJSON=%5B%5D&curInstr=0&codeDivWidth=350&codeDivHeight=400\"> </iframe>"
      ],
      "text/plain": [
       "<IPython.core.display.HTML object>"
      ]
     },
     "metadata": {},
     "output_type": "display_data"
    }
   ],
   "source": [
    "%%HTML\n",
    "<iframe width=\"800\" height=\"500\" frameborder=\"0\" src=\"http://pythontutor.com/iframe-embed.html#code=s+%3D+'abcdefgh'%0A%0Aprint(s%5B0%5D%29%0A%0Aprint(s%5B2%5D%29%0A%0Aprint(s%5B7%5D%29%0A%0Aprint(s%5B-1%5D%29%0A%0Aprint(s%5B-3%5D%29%0A&origin=opt-frontend.js&cumulative=false&heapPrimitives=false&textReferences=false&py=3&rawInputLstJSON=%5B%5D&curInstr=0&codeDivWidth=350&codeDivHeight=400\"> </iframe>"
   ]
  },
  {
   "cell_type": "code",
   "execution_count": 9,
   "metadata": {
    "collapsed": false
   },
   "outputs": [
    {
     "data": {
      "text/html": [
       "<iframe width=\"800\" height=\"600\" frameborder=\"0\" src=\"http://pythontutor.com/iframe-embed.html#code=lst+%3D+%5B159.99,+160.00,+205.95,+128.83,+175.49%5D%0A%0Alst.append(160.00%29%0A%0Aprint(lst.count(160.00%29%29%0A%0Aprint(min(lst%29%29%0A%0Aprint(lst.index(128.83%29%29%0A%0Alst.remove(128.83%29%0A%0Aprint(lst%29%0A%0Alst.sort(%29%0A%0Aprint(lst%29%0A%0A%0A&origin=opt-frontend.js&cumulative=false&heapPrimitives=false&textReferences=false&py=3&rawInputLstJSON=%5B%5D&curInstr=9&codeDivWidth=350&codeDivHeight=400\"> </iframe>"
      ],
      "text/plain": [
       "<IPython.core.display.HTML object>"
      ]
     },
     "metadata": {},
     "output_type": "display_data"
    }
   ],
   "source": [
    "%%HTML\n",
    "<iframe width=\"800\" height=\"600\" frameborder=\"0\" src=\"http://pythontutor.com/iframe-embed.html#code=lst+%3D+%5B159.99,+160.00,+205.95,+128.83,+175.49%5D%0A%0Alst.append(160.00%29%0A%0Aprint(lst.count(160.00%29%29%0A%0Aprint(min(lst%29%29%0A%0Aprint(lst.index(128.83%29%29%0A%0Alst.remove(128.83%29%0A%0Aprint(lst%29%0A%0Alst.sort(%29%0A%0Aprint(lst%29%0A%0A%0A&origin=opt-frontend.js&cumulative=false&heapPrimitives=false&textReferences=false&py=3&rawInputLstJSON=%5B%5D&curInstr=9&codeDivWidth=350&codeDivHeight=400\"> </iframe>"
   ]
  },
  {
   "cell_type": "code",
   "execution_count": null,
   "metadata": {
    "collapsed": true
   },
   "outputs": [],
   "source": []
  }
 ],
 "metadata": {
  "kernelspec": {
   "display_name": "Python 3",
   "language": "python",
   "name": "python3"
  },
  "language_info": {
   "codemirror_mode": {
    "name": "ipython",
    "version": 3
   },
   "file_extension": ".py",
   "mimetype": "text/x-python",
   "name": "python",
   "nbconvert_exporter": "python",
   "pygments_lexer": "ipython3",
   "version": "3.4.3"
  }
 },
 "nbformat": 4,
 "nbformat_minor": 0
}
