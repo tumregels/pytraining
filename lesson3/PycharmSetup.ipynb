{
 "cells": [
  {
   "cell_type": "markdown",
   "metadata": {},
   "source": [
    "## Download Pycharm\n",
    "![download pycharm](assets/pycharm-download.gif)"
   ]
  },
  {
   "cell_type": "markdown",
   "metadata": {},
   "source": [
    "## Install Pycharm\n",
    "![install pycharm](assets/pycharm-install.gif)"
   ]
  },
  {
   "cell_type": "markdown",
   "metadata": {},
   "source": [
    "## Create project\n",
    "![create project](assets/pycharm-create-first-lesson-project.gif)"
   ]
  },
  {
   "cell_type": "markdown",
   "metadata": {},
   "source": [
    "## Create script inside the project\n",
    "![create script](assets/pycharm-create-lesson-script.gif)"
   ]
  },
  {
   "cell_type": "markdown",
   "metadata": {},
   "source": [
    "## Run the script\n",
    "![run script](assets/run-lesson-script.gif)"
   ]
  },
  {
   "cell_type": "markdown",
   "metadata": {},
   "source": [
    "## Activate Pycharm's toolbar\n",
    "![activate toolbar](assets/activate-lesson-toolbar.gif)"
   ]
  },
  {
   "cell_type": "markdown",
   "metadata": {},
   "source": [
    "## Activate Pycharm's tool buttons\n",
    "![activate toolbuttons](assets/pycharm-activate-tool-buttons.gif)"
   ]
  },
  {
   "cell_type": "markdown",
   "metadata": {},
   "source": [
    "## Python console\n",
    "![python console](assets/pycharm-python-console-lesson.gif)"
   ]
  },
  {
   "cell_type": "markdown",
   "metadata": {},
   "source": [
    "## Launch jupyter notebook from Pycharm's terminal\n",
    "![jupyter notebook](assets/pycharm-launch-jupyter-lesson.gif)"
   ]
  },
  {
   "cell_type": "markdown",
   "metadata": {},
   "source": [
    "## Pycharm configure startup screen\n",
    "![pycharm startup](assets/pycharm-startup-last-project-lesson.gif)"
   ]
  },
  {
   "cell_type": "code",
   "execution_count": null,
   "metadata": {
    "collapsed": true
   },
   "outputs": [],
   "source": []
  }
 ],
 "metadata": {
  "kernelspec": {
   "display_name": "Python 3",
   "language": "python",
   "name": "python3"
  },
  "language_info": {
   "codemirror_mode": {
    "name": "ipython",
    "version": 3
   },
   "file_extension": ".py",
   "mimetype": "text/x-python",
   "name": "python",
   "nbconvert_exporter": "python",
   "pygments_lexer": "ipython3",
   "version": "3.4.3"
  }
 },
 "nbformat": 4,
 "nbformat_minor": 0
}
