{
 "cells": [
  {
   "cell_type": "markdown",
   "metadata": {},
   "source": [
    "## Normal Code Flow"
   ]
  },
  {
   "cell_type": "code",
   "execution_count": 1,
   "metadata": {
    "collapsed": false
   },
   "outputs": [
    {
     "data": {
      "text/html": [
       "<iframe width=\"800\" height=\"400\" frameborder=\"0\" src=\"http://pythontutor.com/iframe-embed.html#code=first+%3D+input('Enter+your+first+name%3A+'%29%0Alast+%3D+input('Enter+your+last+name%3A+'%29%0Aline1+%3D+'Hello'+%2B+first+%2B+'+'+%2B+last+%2B+'+'%0Aprint(line1%29%0Aprint('Welcome+to+the+world+of+Python!'%29&origin=opt-frontend.js&cumulative=false&heapPrimitives=false&textReferences=false&py=3&rawInputLstJSON=%5B%5D&curInstr=0&codeDivWidth=350&codeDivHeight=400\"> </iframe>"
      ],
      "text/plain": [
       "<IPython.core.display.HTML object>"
      ]
     },
     "metadata": {},
     "output_type": "display_data"
    }
   ],
   "source": [
    "%%HTML\n",
    "<iframe width=\"800\" height=\"400\" frameborder=\"0\" src=\"http://pythontutor.com/iframe-embed.html#code=first+%3D+input('Enter+your+first+name%3A+'%29%0Alast+%3D+input('Enter+your+last+name%3A+'%29%0Aline1+%3D+'Hello'+%2B+first+%2B+'+'+%2B+last+%2B+'+'%0Aprint(line1%29%0Aprint('Welcome+to+the+world+of+Python!'%29&origin=opt-frontend.js&cumulative=false&heapPrimitives=false&textReferences=false&py=3&rawInputLstJSON=%5B%5D&curInstr=0&codeDivWidth=350&codeDivHeight=400\"> </iframe>"
   ]
  },
  {
   "cell_type": "code",
   "execution_count": 2,
   "metadata": {
    "collapsed": false
   },
   "outputs": [
    {
     "data": {
      "text/html": [
       "<iframe width=\"800\" height=\"400\" frameborder=\"0\" src=\"http://pythontutor.com/iframe-embed.html#code=name+%3D+input('Enter+your+name%3A+'%29%0Aage+%3D+int(input('Enter+your+age%3A+'%29%29%0Aline+%3D+name+%2B+',+you+will+be+'+%2B+str(age%2B1%29+%2B+'+next+year!'%0Aprint(line%29&origin=opt-frontend.js&cumulative=false&heapPrimitives=false&textReferences=false&py=3&rawInputLstJSON=%5B%5D&curInstr=0&codeDivWidth=350&codeDivHeight=400\"> </iframe>"
      ],
      "text/plain": [
       "<IPython.core.display.HTML object>"
      ]
     },
     "metadata": {},
     "output_type": "display_data"
    }
   ],
   "source": [
    "%%HTML\n",
    "<iframe width=\"800\" height=\"400\" frameborder=\"0\" src=\"http://pythontutor.com/iframe-embed.html#code=name+%3D+input('Enter+your+name%3A+'%29%0Aage+%3D+int(input('Enter+your+age%3A+'%29%29%0Aline+%3D+name+%2B+',+you+will+be+'+%2B+str(age%2B1%29+%2B+'+next+year!'%0Aprint(line%29&origin=opt-frontend.js&cumulative=false&heapPrimitives=false&textReferences=false&py=3&rawInputLstJSON=%5B%5D&curInstr=0&codeDivWidth=350&codeDivHeight=400\"> </iframe>"
   ]
  },
  {
   "cell_type": "markdown",
   "metadata": {},
   "source": [
    "## `if elif else` statements"
   ]
  },
  {
   "cell_type": "code",
   "execution_count": 3,
   "metadata": {
    "collapsed": false
   },
   "outputs": [
    {
     "data": {
      "text/html": [
       "<iframe width=\"800\" height=\"400\" frameborder=\"0\" src=\"http://pythontutor.com/iframe-embed.html#code=name+%3D+input('Enter+your+name%3A+'%29%0Aage+%3D+input('Enter+your+age%3A+'%29%0Aif+int(age%29%3E20%3A%0A++++print(name+%2B+',+you+can+vote'%29&origin=opt-frontend.js&cumulative=false&heapPrimitives=false&textReferences=false&py=3&rawInputLstJSON=%5B%5D&curInstr=0&codeDivWidth=350&codeDivHeight=400\"> </iframe>"
      ],
      "text/plain": [
       "<IPython.core.display.HTML object>"
      ]
     },
     "metadata": {},
     "output_type": "display_data"
    }
   ],
   "source": [
    "%%HTML\n",
    "<iframe width=\"800\" height=\"400\" frameborder=\"0\" src=\"http://pythontutor.com/iframe-embed.html#code=name+%3D+input('Enter+your+name%3A+'%29%0Aage+%3D+input('Enter+your+age%3A+'%29%0Aif+int(age%29%3E20%3A%0A++++print(name+%2B+',+you+can+vote'%29&origin=opt-frontend.js&cumulative=false&heapPrimitives=false&textReferences=false&py=3&rawInputLstJSON=%5B%5D&curInstr=0&codeDivWidth=350&codeDivHeight=400\"> </iframe>"
   ]
  },
  {
   "cell_type": "code",
   "execution_count": 4,
   "metadata": {
    "collapsed": false
   },
   "outputs": [
    {
     "data": {
      "text/html": [
       "<iframe width=\"800\" height=\"500\" frameborder=\"0\" src=\"http://pythontutor.com/iframe-embed.html#code=name+%3D+input('Enter+your+name%3A+'%29%0Aage+%3D+int(input('Enter+your+age%3A+'%29%29%0Aif+age%3E20%3A%0A++++print(name+%2B+',+you+can+vote'%29%0Aelse%3A%0A++++print(name+%2B+',+you+can%5C't+vote'%29&origin=opt-frontend.js&cumulative=false&heapPrimitives=false&textReferences=false&py=3&rawInputLstJSON=%5B%5D&curInstr=0&codeDivWidth=350&codeDivHeight=400\"> </iframe>"
      ],
      "text/plain": [
       "<IPython.core.display.HTML object>"
      ]
     },
     "metadata": {},
     "output_type": "display_data"
    }
   ],
   "source": [
    "%%HTML\n",
    "<iframe width=\"800\" height=\"500\" frameborder=\"0\" src=\"http://pythontutor.com/iframe-embed.html#code=name+%3D+input('Enter+your+name%3A+'%29%0Aage+%3D+int(input('Enter+your+age%3A+'%29%29%0Aif+age%3E20%3A%0A++++print(name+%2B+',+you+can+vote'%29%0Aelse%3A%0A++++print(name+%2B+',+you+can%5C't+vote'%29&origin=opt-frontend.js&cumulative=false&heapPrimitives=false&textReferences=false&py=3&rawInputLstJSON=%5B%5D&curInstr=0&codeDivWidth=350&codeDivHeight=400\"> </iframe>"
   ]
  },
  {
   "cell_type": "code",
   "execution_count": 5,
   "metadata": {
    "collapsed": false
   },
   "outputs": [
    {
     "data": {
      "text/html": [
       "<iframe width=\"800\" height=\"500\" frameborder=\"0\" src=\"http://pythontutor.com/iframe-embed.html#code=n+%3D+input(%22Enter+number%3A+%22%29%0Anumber+%3D+float(n%29%0Aif+number+%3E+0%3A%0A++++print(%22number+is+positive%22%29%0Aelif+number+%3C+0%3A%0A++++print(%22number+is+negative%22%29%0Aelse%3A%0A++++print(%22number+is+zero%22%29&origin=opt-frontend.js&cumulative=false&heapPrimitives=false&textReferences=false&py=3&rawInputLstJSON=%5B%5D&curInstr=0&codeDivWidth=350&codeDivHeight=400\"> </iframe>"
      ],
      "text/plain": [
       "<IPython.core.display.HTML object>"
      ]
     },
     "metadata": {},
     "output_type": "display_data"
    }
   ],
   "source": [
    "%%HTML\n",
    "<iframe width=\"800\" height=\"500\" frameborder=\"0\" src=\"http://pythontutor.com/iframe-embed.html#code=n+%3D+input(%22Enter+number%3A+%22%29%0Anumber+%3D+float(n%29%0Aif+number+%3E+0%3A%0A++++print(%22number+is+positive%22%29%0Aelif+number+%3C+0%3A%0A++++print(%22number+is+negative%22%29%0Aelse%3A%0A++++print(%22number+is+zero%22%29&origin=opt-frontend.js&cumulative=false&heapPrimitives=false&textReferences=false&py=3&rawInputLstJSON=%5B%5D&curInstr=0&codeDivWidth=350&codeDivHeight=400\"> </iframe>"
   ]
  },
  {
   "cell_type": "code",
   "execution_count": 6,
   "metadata": {
    "collapsed": false
   },
   "outputs": [
    {
     "data": {
      "text/html": [
       "<iframe width=\"800\" height=\"500\" frameborder=\"0\" src=\"http://pythontutor.com/iframe-embed.html#code=n+%3D+input(%22Enter+number%3A+%22%29%0Anumber+%3D+float(n%29%0Aif+number+%3E+0%3A%0A++++print(%22Your+number+is+positive%22%29%0Aelse%3A%0A++++if+number+%3C+0%3A%0A++++++++print(%22Your+number+is+negative%22%29%0A++++else%3A%0A++++++++print(%22Your+number+is+zero%22%29&origin=opt-frontend.js&cumulative=false&heapPrimitives=false&textReferences=false&py=3&rawInputLstJSON=%5B%5D&curInstr=0&codeDivWidth=350&codeDivHeight=400\"> </iframe>"
      ],
      "text/plain": [
       "<IPython.core.display.HTML object>"
      ]
     },
     "metadata": {},
     "output_type": "display_data"
    }
   ],
   "source": [
    "%%HTML\n",
    "<iframe width=\"800\" height=\"500\" frameborder=\"0\" src=\"http://pythontutor.com/iframe-embed.html#code=n+%3D+input(%22Enter+number%3A+%22%29%0Anumber+%3D+float(n%29%0Aif+number+%3E+0%3A%0A++++print(%22Your+number+is+positive%22%29%0Aelse%3A%0A++++if+number+%3C+0%3A%0A++++++++print(%22Your+number+is+negative%22%29%0A++++else%3A%0A++++++++print(%22Your+number+is+zero%22%29&origin=opt-frontend.js&cumulative=false&heapPrimitives=false&textReferences=false&py=3&rawInputLstJSON=%5B%5D&curInstr=0&codeDivWidth=350&codeDivHeight=400\"> </iframe>"
   ]
  },
  {
   "cell_type": "markdown",
   "metadata": {},
   "source": [
    "## `for` and `while` statements"
   ]
  },
  {
   "cell_type": "code",
   "execution_count": 7,
   "metadata": {
    "collapsed": false
   },
   "outputs": [
    {
     "data": {
      "text/html": [
       "<iframe width=\"800\" height=\"400\" frameborder=\"0\" src=\"http://pythontutor.com/iframe-embed.html#code=for+word+in+%5B'stop',+'desktop',+'post',+'top'%5D%3A%0A++++if+'top'+in+word%3A%0A++++++++print(word%29%0Aprint('Done.'%29&origin=opt-frontend.js&cumulative=false&heapPrimitives=false&textReferences=false&py=3&rawInputLstJSON=%5B%5D&curInstr=0&codeDivWidth=350&codeDivHeight=400\"> </iframe>"
      ],
      "text/plain": [
       "<IPython.core.display.HTML object>"
      ]
     },
     "metadata": {},
     "output_type": "display_data"
    }
   ],
   "source": [
    "%%HTML\n",
    "<iframe width=\"800\" height=\"400\" frameborder=\"0\" src=\"http://pythontutor.com/iframe-embed.html#code=for+word+in+%5B'stop',+'desktop',+'post',+'top'%5D%3A%0A++++if+'top'+in+word%3A%0A++++++++print(word%29%0Aprint('Done.'%29&origin=opt-frontend.js&cumulative=false&heapPrimitives=false&textReferences=false&py=3&rawInputLstJSON=%5B%5D&curInstr=0&codeDivWidth=350&codeDivHeight=400\"> </iframe>"
   ]
  },
  {
   "cell_type": "code",
   "execution_count": 8,
   "metadata": {
    "collapsed": false
   },
   "outputs": [
    {
     "data": {
      "text/html": [
       "<iframe width=\"800\" height=\"400\" frameborder=\"0\" src=\"http://pythontutor.com/iframe-embed.html#code=answer+%3D+%22no%22%0Awhile+answer+%3D%3D+%22no%22%3A%0A++++++++answer+%3D+input(%22Are+we+there%3F+%22%29%0Aprint(%22We're+there!%22%29%0A&origin=opt-frontend.js&cumulative=false&heapPrimitives=false&textReferences=false&py=3&rawInputLstJSON=%5B%5D&curInstr=0&codeDivWidth=350&codeDivHeight=400\"> </iframe>"
      ],
      "text/plain": [
       "<IPython.core.display.HTML object>"
      ]
     },
     "metadata": {},
     "output_type": "display_data"
    }
   ],
   "source": [
    "%%HTML\n",
    "<iframe width=\"800\" height=\"400\" frameborder=\"0\" src=\"http://pythontutor.com/iframe-embed.html#code=answer+%3D+%22no%22%0Awhile+answer+%3D%3D+%22no%22%3A%0A++++++++answer+%3D+input(%22Are+we+there%3F+%22%29%0Aprint(%22We're+there!%22%29%0A&origin=opt-frontend.js&cumulative=false&heapPrimitives=false&textReferences=false&py=3&rawInputLstJSON=%5B%5D&curInstr=0&codeDivWidth=350&codeDivHeight=400\"> </iframe>"
   ]
  },
  {
   "cell_type": "markdown",
   "metadata": {},
   "source": [
    "## Source Code"
   ]
  },
  {
   "cell_type": "markdown",
   "metadata": {},
   "source": [
    "```python\n",
    "    first = input('Enter your first name: ')\n",
    "    last = input('Enter your last name: ')\n",
    "    line1 = 'Hello’ + first + ' ' + last + ' '\n",
    "    print(line1)\n",
    "    print('Welcome to the world of Python!')\n",
    "\n",
    "\n",
    "\n",
    "    name = input('Enter your name: ')\n",
    "    age = int(input('Enter your age: '))\n",
    "    line = name + ', you will be ' + str(age+1) + ' next year!'\n",
    "    print(line)\n",
    "\n",
    "\n",
    "\n",
    "    name = input('Enter your name: ')\n",
    "    age = input('Enter your age: ')\n",
    "    if int(age)>20:\n",
    "        print(name + ', you can vote')\n",
    "\n",
    "\n",
    "\n",
    "    name = input('Enter your name: ')\n",
    "    age = int(input('Enter your age: '))\n",
    "    if age>20:\n",
    "        print(name + ', you can vote')\n",
    "    else:\n",
    "        print(name + ', you can\\'t vote')\n",
    "\n",
    "\n",
    "    n = input(\"Enter number: \")\n",
    "    number = float(n)\n",
    "    if number > 0:\n",
    "        print(\"number is positive\")\n",
    "    elif number < 0:\n",
    "        print(\"number is negative\")\n",
    "    else:\n",
    "        print(\"number is zero\")\n",
    "\n",
    "\n",
    "\n",
    "    n = input(\"Enter number: \")\n",
    "    number = float(n)\n",
    "    if number > 0:\n",
    "        print(\"Your number is positive\")\n",
    "    else:\n",
    "        if number < 0:\n",
    "            print(\"Your number is negative\")\n",
    "        else:\n",
    "            print(\"Your number is zero\")\n",
    "\n",
    "    for word in ['stop', 'desktop', 'post', 'top']:\n",
    "        if 'top' in word:\n",
    "            print(word)\n",
    "    print('Done.')\n",
    "\n",
    "    answer = \"no\"\n",
    "    while answer == \"no\":\n",
    "            answer = input(\"Are we there? \")\n",
    "    print(\"We're there!\")\n",
    "\n",
    "\n",
    "    epsilon = 1.0\n",
    "    while 1.0 + epsilon > 1.0:\n",
    "        epsilon = epsilon / 2.0\n",
    "        print(epsilon)\n",
    "\n",
    "    epsilon = 2.0 * epsilon\n",
    "    print(epsilon)\n",
    "```"
   ]
  },
  {
   "cell_type": "code",
   "execution_count": null,
   "metadata": {
    "collapsed": true
   },
   "outputs": [],
   "source": []
  }
 ],
 "metadata": {
  "kernelspec": {
   "display_name": "Python 3",
   "language": "python",
   "name": "python3"
  },
  "language_info": {
   "codemirror_mode": {
    "name": "ipython",
    "version": 3
   },
   "file_extension": ".py",
   "mimetype": "text/x-python",
   "name": "python",
   "nbconvert_exporter": "python",
   "pygments_lexer": "ipython3",
   "version": "3.5.1"
  }
 },
 "nbformat": 4,
 "nbformat_minor": 0
}
