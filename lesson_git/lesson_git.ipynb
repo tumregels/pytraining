{
 "cells": [
  {
   "cell_type": "markdown",
   "metadata": {},
   "source": [
    "### Registration on github\n",
    "\n",
    "[github](https://github.com)"
   ]
  },
  {
   "cell_type": "markdown",
   "metadata": {},
   "source": [
    "![Registration](assets/github-registration.gif)"
   ]
  },
  {
   "cell_type": "markdown",
   "metadata": {},
   "source": [
    "## Git book\n",
    "\n",
    "[russian](https://git-scm.com/book/ru/v1)\n",
    "    \n",
    "[english](https://git-scm.com/book/en/v2)\n",
    "\n",
    "մենակ chapter 2֊ը լրիվ բավարար է\n",
    "\n",
    "[chapter 2](https://git-scm.com/book/ru/v1/%D0%9E%D1%81%D0%BD%D0%BE%D0%B2%D1%8B-Git)\n"
   ]
  },
  {
   "cell_type": "markdown",
   "metadata": {
    "collapsed": true
   },
   "source": [
    "### Download for windows\n",
    "\n",
    "![Download Git](assets/git-download.gif)"
   ]
  },
  {
   "cell_type": "markdown",
   "metadata": {
    "collapsed": true
   },
   "source": [
    "### Install for windows\n",
    "\n",
    "![Install Git](assets/git-install.gif)"
   ]
  },
  {
   "cell_type": "markdown",
   "metadata": {},
   "source": [
    "### First time setup - Սկզբնական կարգավորում\n",
    "\n",
    "բացեք տեռմինալը և գրեք հետևյալ հրամանները\n",
    "\n",
    "```\n",
    "    $ git config --global user.name \"github username\"\n",
    "    $ git config --global user.email githubemail@gmail.com\n",
    "```"
   ]
  },
  {
   "cell_type": "markdown",
   "metadata": {},
   "source": [
    "![Git Config](assets/git-config.gif)"
   ]
  },
  {
   "cell_type": "markdown",
   "metadata": {},
   "source": [
    "### Basic/Main commands\n",
    "\n",
    "\n",
    "    $ git init\n",
    "    \n",
    "    $ git status\n",
    "\n",
    "    $ git add filename1, filename2\n",
    "\n",
    "    $ git commit -m \"your commit message\"\n",
    "    \n",
    "    $ gitk"
   ]
  },
  {
   "cell_type": "markdown",
   "metadata": {},
   "source": [
    "### Interpretation of bosic commands\n",
    "    \n",
    "    $ git init - ստեղծիր նոր ռեպոզիտորիա\n",
    "\n",
    "    $ git status - ստուգել փոփոխությունների ստատուսը\n",
    "\n",
    "    $ git add filename1, filename2 - ավելացնել նոր ֆայլերը ռեպոզիտորիային\n",
    "\n",
    "    $ git commit -m \"your commit message\" - գրանցել փոփոխությունները\n",
    "\n",
    "    $ gitk - ստուգել փոփոխությունները գրաֆիկական միջոցով"
   ]
  },
  {
   "cell_type": "markdown",
   "metadata": {
    "collapsed": true
   },
   "source": [
    "### Git Workflow\n"
   ]
  },
  {
   "cell_type": "code",
   "execution_count": 4,
   "metadata": {
    "collapsed": false
   },
   "outputs": [
    {
     "data": {
      "text/html": [
       "<a href='assets/git-init-add-commit-push-to-github.mp4' target='_blank'>assets/git-init-add-commit-push-to-github.mp4</a><br>"
      ],
      "text/plain": [
       "/home/water/Dropbox/PyTrainingMaterials/PyTraining6/pytraining/lesson_git/assets/git-init-add-commit-push-to-github.mp4"
      ]
     },
     "execution_count": 4,
     "metadata": {},
     "output_type": "execute_result"
    }
   ],
   "source": [
    "from IPython.display import FileLink\n",
    "FileLink('assets/git-init-add-commit-push-to-github.mp4')"
   ]
  }
 ],
 "metadata": {
  "kernelspec": {
   "display_name": "Python 3",
   "language": "python",
   "name": "python3"
  },
  "language_info": {
   "codemirror_mode": {
    "name": "ipython",
    "version": 3
   },
   "file_extension": ".py",
   "mimetype": "text/x-python",
   "name": "python",
   "nbconvert_exporter": "python",
   "pygments_lexer": "ipython3",
   "version": "3.4.3"
  }
 },
 "nbformat": 4,
 "nbformat_minor": 0
}
