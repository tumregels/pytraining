{
 "cells": [
  {
   "cell_type": "markdown",
   "metadata": {},
   "source": [
    "## Major terminal commands\n",
    "\n",
    "\n",
    "### mkdir - make directory\n",
    "\n",
    "    mkdir myproject\n",
    "\n",
    "### cd  - change directory\n",
    "\n",
    "    cd myproject\n",
    "\n",
    "### touch - create file\n",
    "\n",
    "    touch requirements.txt"
   ]
  },
  {
   "cell_type": "markdown",
   "metadata": {},
   "source": [
    "## Project structure\n",
    "\n",
    "    sample_project/\n",
    "        README.rst\n",
    "        LICENSE\n",
    "        setup.py\n",
    "        requirements.txt\n",
    "        sample.py\n",
    "        tests.py\n",
    "        docs/sample.ipynb"
   ]
  },
  {
   "cell_type": "code",
   "execution_count": null,
   "metadata": {
    "collapsed": true
   },
   "outputs": [],
   "source": []
  },
  {
   "cell_type": "markdown",
   "metadata": {},
   "source": [
    "## Example project\n",
    "\n",
    "### Simple structure [github.com/amoffat/sh](https://github.com/amoffat/sh)\n",
    "\n",
    "### Deep structure [github.com/wireservice/leather](https://github.com/wireservice/leather)"
   ]
  },
  {
   "cell_type": "markdown",
   "metadata": {},
   "source": [
    "## Baby Names\n",
    "\n",
    "### [www.ssa.gov/oact/babynames/names.zip](https://www.ssa.gov/oact/babynames/names.zip)"
   ]
  },
  {
   "cell_type": "markdown",
   "metadata": {},
   "source": [
    "|Rank|Male name |Female name|\n",
    "|----:|------:|----:|\n",
    "|1 \t|Noah \t|Emma|\n",
    "|2 \t|Liam \t|Olivia|\n",
    "|3 \t|Mason \t|Sophia|\n",
    "|4 \t|Jacob \t|Ava|\n",
    "|5 \t|William \t|Isabella|\n",
    "|6 \t|Ethan \t|Mia|\n",
    "|7 \t|James \t|Abigail|\n",
    "|8 \t|Alexander \t|Emily|\n",
    "|9 \t|Michael \t|Charlotte|\n",
    "|10 \t|Benjamin \t|Harper|"
   ]
  },
  {
   "cell_type": "code",
   "execution_count": null,
   "metadata": {
    "collapsed": true
   },
   "outputs": [],
   "source": [
    "import pandas as pd\n",
    "\n",
    "names1880 = pd.read_csv('names/yob1880.txt', names=['name', 'sex', 'births'])"
   ]
  },
  {
   "cell_type": "code",
   "execution_count": null,
   "metadata": {
    "collapsed": true
   },
   "outputs": [],
   "source": [
    "names1880.groupby('sex').births.sum()"
   ]
  },
  {
   "cell_type": "code",
   "execution_count": null,
   "metadata": {
    "collapsed": true
   },
   "outputs": [],
   "source": []
  },
  {
   "cell_type": "markdown",
   "metadata": {},
   "source": [
    "## References\n",
    "\n",
    "\n",
    "http://docs.python-guide.org/en/latest/writing/structure/\n",
    "\n",
    "http://rogerdudler.github.io/git-guide/"
   ]
  },
  {
   "cell_type": "code",
   "execution_count": null,
   "metadata": {
    "collapsed": true
   },
   "outputs": [],
   "source": []
  }
 ],
 "metadata": {
  "kernelspec": {
   "display_name": "Python 3",
   "language": "python",
   "name": "python3"
  },
  "language_info": {
   "codemirror_mode": {
    "name": "ipython",
    "version": 3
   },
   "file_extension": ".py",
   "mimetype": "text/x-python",
   "name": "python",
   "nbconvert_exporter": "python",
   "pygments_lexer": "ipython3",
   "version": "3.4.3"
  }
 },
 "nbformat": 4,
 "nbformat_minor": 0
}
